{
  "nbformat": 4,
  "nbformat_minor": 0,
  "metadata": {
    "colab": {
      "provenance": [],
      "authorship_tag": "ABX9TyMwL3pHdymtWW/sILnts5Xg",
      "include_colab_link": true
    },
    "kernelspec": {
      "name": "python3",
      "display_name": "Python 3"
    },
    "language_info": {
      "name": "python"
    }
  },
  "cells": [
    {
      "cell_type": "markdown",
      "metadata": {
        "id": "view-in-github",
        "colab_type": "text"
      },
      "source": [
        "<a href=\"https://colab.research.google.com/github/kiva-mccr/Inverse-Laplace-Calculator/blob/main/LaplaceCalculator.ipynb\" target=\"_parent\"><img src=\"https://colab.research.google.com/assets/colab-badge.svg\" alt=\"Open In Colab\"/></a>"
      ]
    },
    {
      "cell_type": "code",
      "execution_count": null,
      "metadata": {
        "colab": {
          "base_uri": "https://localhost:8080/"
        },
        "id": "L3OOmR5643BJ",
        "outputId": "4b6e8742-6562-498a-8588-1369556f0943"
      },
      "outputs": [
        {
          "output_type": "stream",
          "name": "stdout",
          "text": [
            "Insert function in terms of 's': V_i/250000+V_0/(400*10**-12*s)+V_0/(125000+(1/(1.6*10**-9*s)))\n",
            "\n",
            "Your Input:\n",
            "       V₀         2.5e+9⋅V₀            \n",
            "─────────────── + ───────── + 4.0e-6⋅Vᵢ\n",
            "         6.2e+8       s                \n",
            "1.3e+5 + ──────                        \n",
            "           s                           \n",
            "\n",
            "Your Output:\n",
            "   ⎛             -5.0e+3⋅t              ⎞                                  \n",
            "V₀⋅⎝- 0.04⋅u(t)⋅ℯ          + 8.0e-6⋅δ(t)⎠ + 2.5e+9⋅V₀⋅u(t) + 4.0e-6⋅Vᵢ⋅δ(t)\n"
          ]
        }
      ],
      "source": [
        "import sympy as sym\n",
        "from sympy.abc import s,t,x,y,z\n",
        "from sympy.integrals import inverse_laplace_transform\n",
        "import numpy as np\n",
        "import matplotlib.pyplot as plt\n",
        "\n",
        "function_text = input(\"Insert function in terms of 's': \")\n",
        "function = sym.sympify(function_text)\n",
        "symfy_function = sym.sympify(function)\n",
        "symfy_function = sym.N(symfy_function, 2)\n",
        "\n",
        "print(\"\\nYour Input:\")\n",
        "sym.pprint(symfy_function, use_unicode=True)\n",
        "\n",
        "invlap_function = sym.inverse_laplace_transform(symfy_function, s, t)\n",
        "invlap_function = invlap_function.subs(sym.Heaviside(t),'u(t)')\n",
        "\n",
        "# Format output with digits rounded to two decimal places and display exponent\n",
        "invlap_function_formatted = sym.N(invlap_function, 2)\n",
        "print(\"\\nYour Output:\")\n",
        "sym.pprint(invlap_function_formatted, use_unicode=True)"
      ]
    }
  ]
}