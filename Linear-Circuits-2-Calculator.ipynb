{
  "nbformat": 4,
  "nbformat_minor": 0,
  "metadata": {
    "colab": {
      "provenance": [],
      "authorship_tag": "ABX9TyN/MQlxiBzWsuJ2eEEGZQC8",
      "include_colab_link": true
    },
    "kernelspec": {
      "name": "python3",
      "display_name": "Python 3"
    },
    "language_info": {
      "name": "python"
    }
  },
  "cells": [
    {
      "cell_type": "markdown",
      "metadata": {
        "id": "view-in-github",
        "colab_type": "text"
      },
      "source": [
        "<a href=\"https://colab.research.google.com/github/kiva-mccr/Linear-Circuits-2-Calculator/blob/main/Linear-Circuits-2-Calculator.ipynb\" target=\"_parent\"><img src=\"https://colab.research.google.com/assets/colab-badge.svg\" alt=\"Open In Colab\"/></a>"
      ]
    },
    {
      "cell_type": "code",
      "execution_count": 1,
      "metadata": {
        "colab": {
          "base_uri": "https://localhost:8080/",
          "height": 402
        },
        "id": "L3OOmR5643BJ",
        "outputId": "00fa24ff-07ec-4826-e8be-db31f3df7319",
        "cellView": "form"
      },
      "outputs": [
        {
          "output_type": "stream",
          "name": "stdout",
          "text": [
            "All entries must adhere to programming mathematical convention, ex. 5*s' not '5s'. Press enter to exit.\n",
            "\n",
            "\n",
            "\u001b[1mInsert a Laplace function in terms of 's': \u001b[0m\n",
            "(5*s^4+2*s^2)/(s^2+64)\n",
            "\n",
            "\u001b[1mYour Input:\u001b[0m\n"
          ]
        },
        {
          "output_type": "display_data",
          "data": {
            "text/latex": "$\\displaystyle \\frac{5.0 s^{4} + 2.0 s^{2}}{s^{2} + 64.0}$"
          },
          "metadata": {}
        },
        {
          "output_type": "stream",
          "name": "stdout",
          "text": [
            "\n",
            "\u001b[1mYour Output:\u001b[0m\n"
          ]
        },
        {
          "output_type": "display_data",
          "data": {
            "text/latex": "$\\displaystyle 2.5 \\cdot 10^{3} u{\\left(t \\right)} \\sin{\\left(8 t \\right)} - 3.1 \\cdot 10^{2} \\delta\\left(t\\right)$"
          },
          "metadata": {}
        },
        {
          "output_type": "stream",
          "name": "stdout",
          "text": [
            "\n",
            "\n",
            "\n",
            "\n",
            "\u001b[1mInsert a Laplace function in terms of 's': \u001b[0m\n",
            "\n",
            "\n",
            "End of runtime...\n"
          ]
        }
      ],
      "source": [
        "#@title Inverse Laplace Calculator\n",
        "\n",
        "import sympy as sym\n",
        "from sympy.abc import s, t\n",
        "import IPython.display as disp\n",
        "from google.colab import runtime\n",
        "\n",
        "## Functions\n",
        "def inverse_laplace():\n",
        "  print(\"\\033[1mInsert a Laplace function in terms of 's': \\033[0m\")\n",
        "  function_text = input()\n",
        "  if function_text == \"\":\n",
        "    return \"exit\"\n",
        "  function_text = function_text.lower()\n",
        "  function_text = function_text.replace(')(', ') * (')\n",
        "  function = sym.sympify(function_text)\n",
        "  symfy_function = sym.sympify(function)\n",
        "  symfy_function_display = sym.N(symfy_function, 2)\n",
        "\n",
        "  print(\"\\n\\033[1mYour Input:\\033[0m\")\n",
        "  disp.display_latex(symfy_function_display)\n",
        "\n",
        "  # Perform partial fraction decomposition\n",
        "  partial_fraction = sym.apart(symfy_function, s)  # Added this line\n",
        "\n",
        "  # Perform inverse Laplace transform\n",
        "  invlap_function = sym.inverse_laplace_transform(partial_fraction, s, t)\n",
        "  invlap_function = invlap_function.subs(sym.Heaviside(t), 'u(t)')\n",
        "\n",
        "  # Replace hyperbolic trigonometric functions with their exponential equivalents\n",
        "  invlap_function = invlap_function.rewrite(sym.sinh, sym.exp).rewrite(sym.cosh, sym.exp)\n",
        "\n",
        "  # Simplify the expression while avoiding hyperbolic trigonometric functions\n",
        "  invlap_function = sym.simplify(invlap_function)\n",
        "\n",
        "  # Expand the expression to distribute out terms\n",
        "  invlap_function = sym.expand(invlap_function)\n",
        "  ans = invlap_function\n",
        "  # Format output with digits rounded to two decimal places and display exponent\n",
        "  invlap_function = sym.N(invlap_function, 2)\n",
        "  print(\"\\n\\033[1mYour Output:\\033[0m\")  # This line will make the output bold\n",
        "  disp.display_latex(invlap_function)\n",
        "  print(\"\\n\\n\\n\")\n",
        "  return invlap_function\n",
        "\n",
        "## UI\n",
        "print(\"All entries must adhere to programming mathematical convention, ex. 5*s' not '5s'. Press enter to exit.\\n\\n\")\n",
        "inv_lap_ans = \"\"\n",
        "while True:\n",
        "  if inv_lap_ans == \"exit\":\n",
        "    print(\"\\nEnd of runtime...\")\n",
        "    break\n",
        "  inv_lap_ans = inverse_laplace()"
      ]
    },
    {
      "cell_type": "markdown",
      "source": [
        "\n",
        "\n",
        "---\n",
        "\n"
      ],
      "metadata": {
        "id": "gMLoJym0ALx-"
      }
    },
    {
      "cell_type": "code",
      "source": [
        "#@title Two-Port Parameter Calculator\n",
        "\n",
        "import sympy as sym\n",
        "from sympy.abc import s, t, z\n",
        "import IPython.display as disp\n",
        "from IPython.display import Math\n",
        "from google.colab import runtime\n",
        "\n",
        "## Functions\n",
        "def parameter():\n",
        "  print(\"\\033[1mWhich set of parameters are you inputting? (z, y, h, g, a, or b)\\033[0m\")\n",
        "  function_text = input()\n",
        "  function_text = function_text.lower()\n",
        "  if function_text == \"\":\n",
        "    return \"exit\"\n",
        "  if function_text == \"z\":\n",
        "    print(\"\\033[1mWhat is the value of z11?\\033[0m\")\n",
        "    z_11 = sym.sympify(input())\n",
        "    print(\"\\033[1mWhat is the value of z12?\\033[0m\")\n",
        "    z_12 = sym.sympify(input())\n",
        "    print(\"\\033[1mWhat is the value of z21?\\033[0m\")\n",
        "    z_21 = sym.sympify(input())\n",
        "    print(\"\\033[1mWhat is the value of z22?\\033[0m\")\n",
        "    z_22 = sym.sympify(input())\n",
        "\n",
        "    # Calculate delta value\n",
        "    z_delta = (z_11 * z_22) - (z_12 * z_21)\n",
        "\n",
        "    # Define and print matricies\n",
        "    print(\"\\n\\033[1mComputed values:\\033[0m\")\n",
        "    #z\n",
        "    z_matrix = [[sym.N(z_11,2), sym.N(z_12,2)], [sym.N(z_21,2), sym.N(z_22,2)]]\n",
        "    print(\"z=\")\n",
        "    disp.display(sym.Matrix(z_matrix))\n",
        "    #y\n",
        "    y_matrix = [[sym.N(sym.sympify(z_22/z_delta),2), sym.N(sym.sympify(-z_12/z_delta),2)], [sym.N(sym.sympify(-z_21/z_delta),2), sym.N(sym.sympify(z_11/z_delta),2)]]\n",
        "    print(\"\\ny=\")\n",
        "    disp.display(sym.Matrix(y_matrix))\n",
        "    #h\n",
        "    h_matrix = [[sym.N(z_delta/z_22,2), sym.N(z_12/z_22,2)], [sym.N(-z_21/z_22,2), sym.N(1/z_22,2)]]\n",
        "    print(\"\\nh=\")\n",
        "    disp.display(sym.Matrix(h_matrix))\n",
        "    #g\n",
        "    g_matrix = [[sym.N(1/z_11,2), sym.N(-z_12/z_11,2)], [sym.N(z_21/z_11,2), sym.N(z_delta/z_11,2)]]\n",
        "    print(\"\\ng=\")\n",
        "    disp.display(sym.Matrix(g_matrix))\n",
        "    #a\n",
        "    a_matrix = [[sym.N(z_11/z_21,2), sym.N(z_delta/z_21,2)], [sym.N(1/z_21,2), sym.N(z_22/z_21,2)]]\n",
        "    print(\"\\na=\")\n",
        "    disp.display(sym.Matrix(a_matrix))\n",
        "    #b\n",
        "    b_matrix = [[sym.N(z_22/z_12,2), sym.N(z_delta/z_12,2)], [sym.N(1/z_12,2), sym.N(z_11/z_12,2)]]\n",
        "    print(\"\\nb=\")\n",
        "    disp.display(sym.Matrix(b_matrix))\n",
        "  if function_text == \"y\":\n",
        "    print(\"\\033[1mWhat is the value of y11?\\033[0m\")\n",
        "    y_11 = sym.sympify(input())\n",
        "    print(\"\\033[1mWhat is the value of y12?\\033[0m\")\n",
        "    y_12 = sym.sympify(input())\n",
        "    print(\"\\033[1mWhat is the value of y21?\\033[0m\")\n",
        "    y_21 = sym.sympify(input())\n",
        "    print(\"\\033[1mWhat is the value of y22?\\033[0m\")\n",
        "    y_22 = sym.sympify(input())\n",
        "\n",
        "    # Calculate delta value\n",
        "    y_delta = (y_11 * y_22) - (y_12 * y_21)\n",
        "\n",
        "    # Define and print matricies\n",
        "    print(\"\\n\\033[1mComputed values:\\033[0m\")\n",
        "    #z\n",
        "    z_matrix = [[sym.N(y_22/y_delta,2), sym.N(-y_12/y_delta,2)], [sym.N(-y_21/y_delta,2), sym.N(y_11/y_delta,2)]]\n",
        "    print(\"z=\")\n",
        "    disp.display(sym.Matrix(z_matrix))\n",
        "    #y\n",
        "    y_matrix = [[sym.N(sym.sympify(y_11),2), sym.N(sym.sympify(y_12),2)], [sym.N(sym.sympify(y_21),2), sym.N(sym.sympify(y_22),2)]]\n",
        "    print(\"\\ny=\")\n",
        "    disp.display(sym.Matrix(y_matrix))\n",
        "    #h\n",
        "    h_matrix = [[sym.N(1/y_11,2), sym.N(-y_12/y_11,2)], [sym.N(y_21/y_11,2), sym.N(y_delta/y_11,2)]]\n",
        "    print(\"\\nh=\")\n",
        "    disp.display(sym.Matrix(h_matrix))\n",
        "    #g\n",
        "    g_matrix = [[sym.N(y_delta/y_22,2), sym.N(y_12/y_22,2)], [sym.N(-y_21/y_22,2), sym.N(1/y_22,2)]]\n",
        "    print(\"\\ng=\")\n",
        "    disp.display(sym.Matrix(g_matrix))\n",
        "    #a\n",
        "    a_matrix = [[sym.N(-y_22/y_21,2), sym.N(-1/y_21,2)], [sym.N(-y_delta/y_21,2), sym.N(-y_11/y_21,2)]]\n",
        "    print(\"\\na=\")\n",
        "    disp.display(sym.Matrix(a_matrix))\n",
        "    #b\n",
        "    b_matrix = [[sym.N(-y_11/y_12,2), sym.N(-1/y_12,2)], [sym.N(-y_delta/y_12,2), sym.N(y_22/y_12,2)]]\n",
        "    print(\"\\nb=\")\n",
        "    disp.display(sym.Matrix(b_matrix))\n",
        "\n",
        "  print(\"\\n\\n\\n\")\n",
        "  return parameter\n",
        "\n",
        "## UI\n",
        "print(\"All entries must adhere to programming mathematical convention, ex. 5*s' not '5s'. Press enter to exit.\\n\\n\")\n",
        "parameter_ans = \"\"\n",
        "while True:\n",
        "  if parameter_ans == \"exit\":\n",
        "    print(\"\\nEnd of runtime...\")\n",
        "    break\n",
        "  parameter_ans = parameter()"
      ],
      "metadata": {
        "id": "57LwGgTmzOjY",
        "outputId": "2fbec9e9-56b8-412b-f4ba-95204c23d273",
        "colab": {
          "base_uri": "https://localhost:8080/",
          "height": 1000
        }
      },
      "execution_count": 4,
      "outputs": [
        {
          "output_type": "stream",
          "name": "stdout",
          "text": [
            "All entries must adhere to programming mathematical convention, ex. 5*s' not '5s'. Press enter to exit.\n",
            "\n",
            "\n",
            "\u001b[1mWhich set of parameters are you inputting? (z, y, h, g, a, or b)\u001b[0m\n",
            "Z\n",
            "\u001b[1mWhat is the value of z11?\u001b[0m\n",
            "1\n",
            "\u001b[1mWhat is the value of z12?\u001b[0m\n",
            "2\n",
            "\u001b[1mWhat is the value of z21?\u001b[0m\n",
            "3\n",
            "\u001b[1mWhat is the value of z22?\u001b[0m\n",
            "4\n",
            "\n",
            "\u001b[1mComputed values:\u001b[0m\n",
            "z=\n"
          ]
        },
        {
          "output_type": "display_data",
          "data": {
            "text/plain": [
              "Matrix([\n",
              "[1.0, 2.0],\n",
              "[3.0, 4.0]])"
            ],
            "text/latex": "$\\displaystyle \\left[\\begin{matrix}1.0 & 2.0\\\\3.0 & 4.0\\end{matrix}\\right]$"
          },
          "metadata": {}
        },
        {
          "output_type": "stream",
          "name": "stdout",
          "text": [
            "\n",
            "y=\n"
          ]
        },
        {
          "output_type": "display_data",
          "data": {
            "text/plain": [
              "Matrix([\n",
              "[-2.0,  1.0],\n",
              "[ 1.5, -0.5]])"
            ],
            "text/latex": "$\\displaystyle \\left[\\begin{matrix}-2.0 & 1.0\\\\1.5 & -0.5\\end{matrix}\\right]$"
          },
          "metadata": {}
        },
        {
          "output_type": "stream",
          "name": "stdout",
          "text": [
            "\n",
            "h=\n"
          ]
        },
        {
          "output_type": "display_data",
          "data": {
            "text/plain": [
              "Matrix([\n",
              "[ -0.5,  0.5],\n",
              "[-0.75, 0.25]])"
            ],
            "text/latex": "$\\displaystyle \\left[\\begin{matrix}-0.5 & 0.5\\\\-0.75 & 0.25\\end{matrix}\\right]$"
          },
          "metadata": {}
        },
        {
          "output_type": "stream",
          "name": "stdout",
          "text": [
            "\n",
            "g=\n"
          ]
        },
        {
          "output_type": "display_data",
          "data": {
            "text/plain": [
              "Matrix([\n",
              "[1.0, -2.0],\n",
              "[3.0, -2.0]])"
            ],
            "text/latex": "$\\displaystyle \\left[\\begin{matrix}1.0 & -2.0\\\\3.0 & -2.0\\end{matrix}\\right]$"
          },
          "metadata": {}
        },
        {
          "output_type": "stream",
          "name": "stdout",
          "text": [
            "\n",
            "a=\n"
          ]
        },
        {
          "output_type": "display_data",
          "data": {
            "text/plain": [
              "Matrix([\n",
              "[0.33, -0.67],\n",
              "[0.33,   1.3]])"
            ],
            "text/latex": "$\\displaystyle \\left[\\begin{matrix}0.33 & -0.67\\\\0.33 & 1.3\\end{matrix}\\right]$"
          },
          "metadata": {}
        },
        {
          "output_type": "stream",
          "name": "stdout",
          "text": [
            "\n",
            "b=\n"
          ]
        },
        {
          "output_type": "display_data",
          "data": {
            "text/plain": [
              "Matrix([\n",
              "[2.0, -1.0],\n",
              "[0.5,  0.5]])"
            ],
            "text/latex": "$\\displaystyle \\left[\\begin{matrix}2.0 & -1.0\\\\0.5 & 0.5\\end{matrix}\\right]$"
          },
          "metadata": {}
        },
        {
          "output_type": "stream",
          "name": "stdout",
          "text": [
            "\n",
            "\n",
            "\n",
            "\n",
            "\u001b[1mWhich set of parameters are you inputting? (z, y, h, g, a, or b)\u001b[0m\n"
          ]
        },
        {
          "output_type": "error",
          "ename": "KeyboardInterrupt",
          "evalue": "Interrupted by user",
          "traceback": [
            "\u001b[0;31m---------------------------------------------------------------------------\u001b[0m",
            "\u001b[0;31mKeyboardInterrupt\u001b[0m                         Traceback (most recent call last)",
            "\u001b[0;32m<ipython-input-4-dbf209ada199>\u001b[0m in \u001b[0;36m<cell line: 62>\u001b[0;34m()\u001b[0m\n\u001b[1;32m     64\u001b[0m     \u001b[0mprint\u001b[0m\u001b[0;34m(\u001b[0m\u001b[0;34m\"\\nEnd of runtime...\"\u001b[0m\u001b[0;34m)\u001b[0m\u001b[0;34m\u001b[0m\u001b[0;34m\u001b[0m\u001b[0m\n\u001b[1;32m     65\u001b[0m     \u001b[0;32mbreak\u001b[0m\u001b[0;34m\u001b[0m\u001b[0;34m\u001b[0m\u001b[0m\n\u001b[0;32m---> 66\u001b[0;31m   \u001b[0mparameter_ans\u001b[0m \u001b[0;34m=\u001b[0m \u001b[0mparameter\u001b[0m\u001b[0;34m(\u001b[0m\u001b[0;34m)\u001b[0m\u001b[0;34m\u001b[0m\u001b[0;34m\u001b[0m\u001b[0m\n\u001b[0m",
            "\u001b[0;32m<ipython-input-4-dbf209ada199>\u001b[0m in \u001b[0;36mparameter\u001b[0;34m()\u001b[0m\n\u001b[1;32m     10\u001b[0m \u001b[0;32mdef\u001b[0m \u001b[0mparameter\u001b[0m\u001b[0;34m(\u001b[0m\u001b[0;34m)\u001b[0m\u001b[0;34m:\u001b[0m\u001b[0;34m\u001b[0m\u001b[0;34m\u001b[0m\u001b[0m\n\u001b[1;32m     11\u001b[0m   \u001b[0mprint\u001b[0m\u001b[0;34m(\u001b[0m\u001b[0;34m\"\\033[1mWhich set of parameters are you inputting? (z, y, h, g, a, or b)\\033[0m\"\u001b[0m\u001b[0;34m)\u001b[0m\u001b[0;34m\u001b[0m\u001b[0;34m\u001b[0m\u001b[0m\n\u001b[0;32m---> 12\u001b[0;31m   \u001b[0mfunction_text\u001b[0m \u001b[0;34m=\u001b[0m \u001b[0minput\u001b[0m\u001b[0;34m(\u001b[0m\u001b[0;34m)\u001b[0m\u001b[0;34m\u001b[0m\u001b[0;34m\u001b[0m\u001b[0m\n\u001b[0m\u001b[1;32m     13\u001b[0m   \u001b[0mfunction_text\u001b[0m \u001b[0;34m=\u001b[0m \u001b[0mfunction_text\u001b[0m\u001b[0;34m.\u001b[0m\u001b[0mlower\u001b[0m\u001b[0;34m(\u001b[0m\u001b[0;34m)\u001b[0m\u001b[0;34m\u001b[0m\u001b[0;34m\u001b[0m\u001b[0m\n\u001b[1;32m     14\u001b[0m   \u001b[0;32mif\u001b[0m \u001b[0mfunction_text\u001b[0m \u001b[0;34m==\u001b[0m \u001b[0;34m\"\"\u001b[0m\u001b[0;34m:\u001b[0m\u001b[0;34m\u001b[0m\u001b[0;34m\u001b[0m\u001b[0m\n",
            "\u001b[0;32m/usr/local/lib/python3.10/dist-packages/ipykernel/kernelbase.py\u001b[0m in \u001b[0;36mraw_input\u001b[0;34m(self, prompt)\u001b[0m\n\u001b[1;32m    849\u001b[0m                 \u001b[0;34m\"raw_input was called, but this frontend does not support input requests.\"\u001b[0m\u001b[0;34m\u001b[0m\u001b[0;34m\u001b[0m\u001b[0m\n\u001b[1;32m    850\u001b[0m             )\n\u001b[0;32m--> 851\u001b[0;31m         return self._input_request(str(prompt),\n\u001b[0m\u001b[1;32m    852\u001b[0m             \u001b[0mself\u001b[0m\u001b[0;34m.\u001b[0m\u001b[0m_parent_ident\u001b[0m\u001b[0;34m,\u001b[0m\u001b[0;34m\u001b[0m\u001b[0;34m\u001b[0m\u001b[0m\n\u001b[1;32m    853\u001b[0m             \u001b[0mself\u001b[0m\u001b[0;34m.\u001b[0m\u001b[0m_parent_header\u001b[0m\u001b[0;34m,\u001b[0m\u001b[0;34m\u001b[0m\u001b[0;34m\u001b[0m\u001b[0m\n",
            "\u001b[0;32m/usr/local/lib/python3.10/dist-packages/ipykernel/kernelbase.py\u001b[0m in \u001b[0;36m_input_request\u001b[0;34m(self, prompt, ident, parent, password)\u001b[0m\n\u001b[1;32m    893\u001b[0m             \u001b[0;32mexcept\u001b[0m \u001b[0mKeyboardInterrupt\u001b[0m\u001b[0;34m:\u001b[0m\u001b[0;34m\u001b[0m\u001b[0;34m\u001b[0m\u001b[0m\n\u001b[1;32m    894\u001b[0m                 \u001b[0;31m# re-raise KeyboardInterrupt, to truncate traceback\u001b[0m\u001b[0;34m\u001b[0m\u001b[0;34m\u001b[0m\u001b[0m\n\u001b[0;32m--> 895\u001b[0;31m                 \u001b[0;32mraise\u001b[0m \u001b[0mKeyboardInterrupt\u001b[0m\u001b[0;34m(\u001b[0m\u001b[0;34m\"Interrupted by user\"\u001b[0m\u001b[0;34m)\u001b[0m \u001b[0;32mfrom\u001b[0m \u001b[0;32mNone\u001b[0m\u001b[0;34m\u001b[0m\u001b[0;34m\u001b[0m\u001b[0m\n\u001b[0m\u001b[1;32m    896\u001b[0m             \u001b[0;32mexcept\u001b[0m \u001b[0mException\u001b[0m \u001b[0;32mas\u001b[0m \u001b[0me\u001b[0m\u001b[0;34m:\u001b[0m\u001b[0;34m\u001b[0m\u001b[0;34m\u001b[0m\u001b[0m\n\u001b[1;32m    897\u001b[0m                 \u001b[0mself\u001b[0m\u001b[0;34m.\u001b[0m\u001b[0mlog\u001b[0m\u001b[0;34m.\u001b[0m\u001b[0mwarning\u001b[0m\u001b[0;34m(\u001b[0m\u001b[0;34m\"Invalid Message:\"\u001b[0m\u001b[0;34m,\u001b[0m \u001b[0mexc_info\u001b[0m\u001b[0;34m=\u001b[0m\u001b[0;32mTrue\u001b[0m\u001b[0;34m)\u001b[0m\u001b[0;34m\u001b[0m\u001b[0;34m\u001b[0m\u001b[0m\n",
            "\u001b[0;31mKeyboardInterrupt\u001b[0m: Interrupted by user"
          ]
        }
      ]
    },
    {
      "cell_type": "markdown",
      "source": [
        "\n",
        "\n",
        "---\n",
        "\n"
      ],
      "metadata": {
        "id": "6yU0OP-VH-Jn"
      }
    },
    {
      "cell_type": "code",
      "source": [
        "#@title System of Equations Calculator"
      ],
      "metadata": {
        "id": "yGX8xhRbl9sm"
      },
      "execution_count": null,
      "outputs": []
    },
    {
      "cell_type": "markdown",
      "source": [
        "\n",
        "\n",
        "---\n",
        "\n"
      ],
      "metadata": {
        "id": "RVcuLwPBIGaj"
      }
    },
    {
      "cell_type": "code",
      "source": [
        "#@title Filter Characterization Graph"
      ],
      "metadata": {
        "id": "RbjRw3NqIAxZ"
      },
      "execution_count": null,
      "outputs": []
    }
  ]
}