{
  "nbformat": 4,
  "nbformat_minor": 0,
  "metadata": {
    "colab": {
      "provenance": [],
      "authorship_tag": "ABX9TyNhbRE/PVfjw//Xd3SHh6tm",
      "include_colab_link": true
    },
    "kernelspec": {
      "name": "python3",
      "display_name": "Python 3"
    },
    "language_info": {
      "name": "python"
    },
    "widgets": {
      "application/vnd.jupyter.widget-state+json": {
        "3c0a76f89f934b33af551a5265ffeae5": {
          "model_module": "@jupyter-widgets/controls",
          "model_name": "ButtonModel",
          "model_module_version": "1.5.0",
          "state": {
            "_dom_classes": [],
            "_model_module": "@jupyter-widgets/controls",
            "_model_module_version": "1.5.0",
            "_model_name": "ButtonModel",
            "_view_count": null,
            "_view_module": "@jupyter-widgets/controls",
            "_view_module_version": "1.5.0",
            "_view_name": "ButtonView",
            "button_style": "",
            "description": "I Accept",
            "disabled": false,
            "icon": "",
            "layout": "IPY_MODEL_127c76c2c6a94fce87fc88cafc92baaa",
            "style": "IPY_MODEL_9998c6a4361b4a53b81d9221001b73ad",
            "tooltip": ""
          }
        },
        "127c76c2c6a94fce87fc88cafc92baaa": {
          "model_module": "@jupyter-widgets/base",
          "model_name": "LayoutModel",
          "model_module_version": "1.2.0",
          "state": {
            "_model_module": "@jupyter-widgets/base",
            "_model_module_version": "1.2.0",
            "_model_name": "LayoutModel",
            "_view_count": null,
            "_view_module": "@jupyter-widgets/base",
            "_view_module_version": "1.2.0",
            "_view_name": "LayoutView",
            "align_content": null,
            "align_items": null,
            "align_self": null,
            "border": null,
            "bottom": null,
            "display": null,
            "flex": null,
            "flex_flow": null,
            "grid_area": null,
            "grid_auto_columns": null,
            "grid_auto_flow": null,
            "grid_auto_rows": null,
            "grid_column": null,
            "grid_gap": null,
            "grid_row": null,
            "grid_template_areas": null,
            "grid_template_columns": null,
            "grid_template_rows": null,
            "height": null,
            "justify_content": null,
            "justify_items": null,
            "left": null,
            "margin": null,
            "max_height": null,
            "max_width": null,
            "min_height": null,
            "min_width": null,
            "object_fit": null,
            "object_position": null,
            "order": null,
            "overflow": null,
            "overflow_x": null,
            "overflow_y": null,
            "padding": null,
            "right": null,
            "top": null,
            "visibility": null,
            "width": null
          }
        },
        "9998c6a4361b4a53b81d9221001b73ad": {
          "model_module": "@jupyter-widgets/controls",
          "model_name": "ButtonStyleModel",
          "model_module_version": "1.5.0",
          "state": {
            "_model_module": "@jupyter-widgets/controls",
            "_model_module_version": "1.5.0",
            "_model_name": "ButtonStyleModel",
            "_view_count": null,
            "_view_module": "@jupyter-widgets/base",
            "_view_module_version": "1.2.0",
            "_view_name": "StyleView",
            "button_color": null,
            "font_weight": ""
          }
        },
        "0a84f0bd66c84723893ab66e3340bbca": {
          "model_module": "@jupyter-widgets/controls",
          "model_name": "DropdownModel",
          "model_module_version": "1.5.0",
          "state": {
            "_dom_classes": [],
            "_model_module": "@jupyter-widgets/controls",
            "_model_module_version": "1.5.0",
            "_model_name": "DropdownModel",
            "_options_labels": [
              "Z",
              "Y",
              "g",
              "h",
              "a",
              "b"
            ],
            "_view_count": null,
            "_view_module": "@jupyter-widgets/controls",
            "_view_module_version": "1.5.0",
            "_view_name": "DropdownView",
            "description": "",
            "description_tooltip": null,
            "disabled": false,
            "index": 0,
            "layout": "IPY_MODEL_22e1060afc714617a69036cfabf78f08",
            "style": "IPY_MODEL_1af7fa942eaa4eff935230ee08b00e78"
          }
        },
        "22e1060afc714617a69036cfabf78f08": {
          "model_module": "@jupyter-widgets/base",
          "model_name": "LayoutModel",
          "model_module_version": "1.2.0",
          "state": {
            "_model_module": "@jupyter-widgets/base",
            "_model_module_version": "1.2.0",
            "_model_name": "LayoutModel",
            "_view_count": null,
            "_view_module": "@jupyter-widgets/base",
            "_view_module_version": "1.2.0",
            "_view_name": "LayoutView",
            "align_content": null,
            "align_items": null,
            "align_self": null,
            "border": null,
            "bottom": null,
            "display": null,
            "flex": null,
            "flex_flow": null,
            "grid_area": null,
            "grid_auto_columns": null,
            "grid_auto_flow": null,
            "grid_auto_rows": null,
            "grid_column": null,
            "grid_gap": null,
            "grid_row": null,
            "grid_template_areas": null,
            "grid_template_columns": null,
            "grid_template_rows": null,
            "height": null,
            "justify_content": null,
            "justify_items": null,
            "left": null,
            "margin": null,
            "max_height": null,
            "max_width": null,
            "min_height": null,
            "min_width": null,
            "object_fit": null,
            "object_position": null,
            "order": null,
            "overflow": null,
            "overflow_x": null,
            "overflow_y": null,
            "padding": null,
            "right": null,
            "top": null,
            "visibility": null,
            "width": null
          }
        },
        "1af7fa942eaa4eff935230ee08b00e78": {
          "model_module": "@jupyter-widgets/controls",
          "model_name": "DescriptionStyleModel",
          "model_module_version": "1.5.0",
          "state": {
            "_model_module": "@jupyter-widgets/controls",
            "_model_module_version": "1.5.0",
            "_model_name": "DescriptionStyleModel",
            "_view_count": null,
            "_view_module": "@jupyter-widgets/base",
            "_view_module_version": "1.2.0",
            "_view_name": "StyleView",
            "description_width": ""
          }
        },
        "76c801b8e4eb4bbeaab39823f6cf90f9": {
          "model_module": "@jupyter-widgets/controls",
          "model_name": "VBoxModel",
          "model_module_version": "1.5.0",
          "state": {
            "_dom_classes": [],
            "_model_module": "@jupyter-widgets/controls",
            "_model_module_version": "1.5.0",
            "_model_name": "VBoxModel",
            "_view_count": null,
            "_view_module": "@jupyter-widgets/controls",
            "_view_module_version": "1.5.0",
            "_view_name": "VBoxView",
            "box_style": "",
            "children": [
              "IPY_MODEL_5145c28d5e8a48bba3c8762fab7fa94d",
              "IPY_MODEL_20e01ed3735a4f1490ab1fd8aee266e9"
            ],
            "layout": "IPY_MODEL_ceb3ed7c448a452e837532d91ee49508"
          }
        },
        "5145c28d5e8a48bba3c8762fab7fa94d": {
          "model_module": "@jupyter-widgets/controls",
          "model_name": "HBoxModel",
          "model_module_version": "1.5.0",
          "state": {
            "_dom_classes": [],
            "_model_module": "@jupyter-widgets/controls",
            "_model_module_version": "1.5.0",
            "_model_name": "HBoxModel",
            "_view_count": null,
            "_view_module": "@jupyter-widgets/controls",
            "_view_module_version": "1.5.0",
            "_view_name": "HBoxView",
            "box_style": "",
            "children": [
              "IPY_MODEL_648291cfc366472bb8cbd688252fefd3",
              "IPY_MODEL_9d0d77aa43254fad84022aa3ffbe2589"
            ],
            "layout": "IPY_MODEL_db29689987b542b3a91aa1d475421ba3"
          }
        },
        "20e01ed3735a4f1490ab1fd8aee266e9": {
          "model_module": "@jupyter-widgets/controls",
          "model_name": "HBoxModel",
          "model_module_version": "1.5.0",
          "state": {
            "_dom_classes": [],
            "_model_module": "@jupyter-widgets/controls",
            "_model_module_version": "1.5.0",
            "_model_name": "HBoxModel",
            "_view_count": null,
            "_view_module": "@jupyter-widgets/controls",
            "_view_module_version": "1.5.0",
            "_view_name": "HBoxView",
            "box_style": "",
            "children": [
              "IPY_MODEL_e7ecf5748bfe46d199015b5ed092271e",
              "IPY_MODEL_eb258c54fbf84d1589af979497c1374d"
            ],
            "layout": "IPY_MODEL_fbab435d54d34ba4a322169e5933e85a"
          }
        },
        "ceb3ed7c448a452e837532d91ee49508": {
          "model_module": "@jupyter-widgets/base",
          "model_name": "LayoutModel",
          "model_module_version": "1.2.0",
          "state": {
            "_model_module": "@jupyter-widgets/base",
            "_model_module_version": "1.2.0",
            "_model_name": "LayoutModel",
            "_view_count": null,
            "_view_module": "@jupyter-widgets/base",
            "_view_module_version": "1.2.0",
            "_view_name": "LayoutView",
            "align_content": null,
            "align_items": null,
            "align_self": null,
            "border": null,
            "bottom": null,
            "display": null,
            "flex": null,
            "flex_flow": null,
            "grid_area": null,
            "grid_auto_columns": null,
            "grid_auto_flow": null,
            "grid_auto_rows": null,
            "grid_column": null,
            "grid_gap": null,
            "grid_row": null,
            "grid_template_areas": null,
            "grid_template_columns": null,
            "grid_template_rows": null,
            "height": null,
            "justify_content": null,
            "justify_items": null,
            "left": null,
            "margin": null,
            "max_height": null,
            "max_width": null,
            "min_height": null,
            "min_width": null,
            "object_fit": null,
            "object_position": null,
            "order": null,
            "overflow": null,
            "overflow_x": null,
            "overflow_y": null,
            "padding": null,
            "right": null,
            "top": null,
            "visibility": null,
            "width": null
          }
        },
        "648291cfc366472bb8cbd688252fefd3": {
          "model_module": "@jupyter-widgets/controls",
          "model_name": "TextModel",
          "model_module_version": "1.5.0",
          "state": {
            "_dom_classes": [],
            "_model_module": "@jupyter-widgets/controls",
            "_model_module_version": "1.5.0",
            "_model_name": "TextModel",
            "_view_count": null,
            "_view_module": "@jupyter-widgets/controls",
            "_view_module_version": "1.5.0",
            "_view_name": "TextView",
            "continuous_update": true,
            "description": "11",
            "description_tooltip": null,
            "disabled": false,
            "layout": "IPY_MODEL_fcccc21c227d45a394b55c93903520fb",
            "placeholder": "​",
            "style": "IPY_MODEL_5377fa898e454453b7c9fd88539ca0bb",
            "value": "1"
          }
        },
        "9d0d77aa43254fad84022aa3ffbe2589": {
          "model_module": "@jupyter-widgets/controls",
          "model_name": "TextModel",
          "model_module_version": "1.5.0",
          "state": {
            "_dom_classes": [],
            "_model_module": "@jupyter-widgets/controls",
            "_model_module_version": "1.5.0",
            "_model_name": "TextModel",
            "_view_count": null,
            "_view_module": "@jupyter-widgets/controls",
            "_view_module_version": "1.5.0",
            "_view_name": "TextView",
            "continuous_update": true,
            "description": "12",
            "description_tooltip": null,
            "disabled": false,
            "layout": "IPY_MODEL_206e979fea23418089edf622479f00cf",
            "placeholder": "​",
            "style": "IPY_MODEL_312c490e5fd2438c973402b3b7ef0ce9",
            "value": "2"
          }
        },
        "db29689987b542b3a91aa1d475421ba3": {
          "model_module": "@jupyter-widgets/base",
          "model_name": "LayoutModel",
          "model_module_version": "1.2.0",
          "state": {
            "_model_module": "@jupyter-widgets/base",
            "_model_module_version": "1.2.0",
            "_model_name": "LayoutModel",
            "_view_count": null,
            "_view_module": "@jupyter-widgets/base",
            "_view_module_version": "1.2.0",
            "_view_name": "LayoutView",
            "align_content": null,
            "align_items": null,
            "align_self": null,
            "border": null,
            "bottom": null,
            "display": null,
            "flex": null,
            "flex_flow": null,
            "grid_area": null,
            "grid_auto_columns": null,
            "grid_auto_flow": null,
            "grid_auto_rows": null,
            "grid_column": null,
            "grid_gap": null,
            "grid_row": null,
            "grid_template_areas": null,
            "grid_template_columns": null,
            "grid_template_rows": null,
            "height": null,
            "justify_content": null,
            "justify_items": null,
            "left": null,
            "margin": null,
            "max_height": null,
            "max_width": null,
            "min_height": null,
            "min_width": null,
            "object_fit": null,
            "object_position": null,
            "order": null,
            "overflow": null,
            "overflow_x": null,
            "overflow_y": null,
            "padding": null,
            "right": null,
            "top": null,
            "visibility": null,
            "width": null
          }
        },
        "e7ecf5748bfe46d199015b5ed092271e": {
          "model_module": "@jupyter-widgets/controls",
          "model_name": "TextModel",
          "model_module_version": "1.5.0",
          "state": {
            "_dom_classes": [],
            "_model_module": "@jupyter-widgets/controls",
            "_model_module_version": "1.5.0",
            "_model_name": "TextModel",
            "_view_count": null,
            "_view_module": "@jupyter-widgets/controls",
            "_view_module_version": "1.5.0",
            "_view_name": "TextView",
            "continuous_update": true,
            "description": "21",
            "description_tooltip": null,
            "disabled": false,
            "layout": "IPY_MODEL_87601a3a23d6479b842b8d65b48f01c8",
            "placeholder": "​",
            "style": "IPY_MODEL_64972564b22341b9839553a7e69e6a3c",
            "value": "3"
          }
        },
        "eb258c54fbf84d1589af979497c1374d": {
          "model_module": "@jupyter-widgets/controls",
          "model_name": "TextModel",
          "model_module_version": "1.5.0",
          "state": {
            "_dom_classes": [],
            "_model_module": "@jupyter-widgets/controls",
            "_model_module_version": "1.5.0",
            "_model_name": "TextModel",
            "_view_count": null,
            "_view_module": "@jupyter-widgets/controls",
            "_view_module_version": "1.5.0",
            "_view_name": "TextView",
            "continuous_update": true,
            "description": "22",
            "description_tooltip": null,
            "disabled": false,
            "layout": "IPY_MODEL_863a76cbd9484508844b205896d77f2b",
            "placeholder": "​",
            "style": "IPY_MODEL_93d1b3255d084f06afe1c49080b6dac2",
            "value": "4"
          }
        },
        "fbab435d54d34ba4a322169e5933e85a": {
          "model_module": "@jupyter-widgets/base",
          "model_name": "LayoutModel",
          "model_module_version": "1.2.0",
          "state": {
            "_model_module": "@jupyter-widgets/base",
            "_model_module_version": "1.2.0",
            "_model_name": "LayoutModel",
            "_view_count": null,
            "_view_module": "@jupyter-widgets/base",
            "_view_module_version": "1.2.0",
            "_view_name": "LayoutView",
            "align_content": null,
            "align_items": null,
            "align_self": null,
            "border": null,
            "bottom": null,
            "display": null,
            "flex": null,
            "flex_flow": null,
            "grid_area": null,
            "grid_auto_columns": null,
            "grid_auto_flow": null,
            "grid_auto_rows": null,
            "grid_column": null,
            "grid_gap": null,
            "grid_row": null,
            "grid_template_areas": null,
            "grid_template_columns": null,
            "grid_template_rows": null,
            "height": null,
            "justify_content": null,
            "justify_items": null,
            "left": null,
            "margin": null,
            "max_height": null,
            "max_width": null,
            "min_height": null,
            "min_width": null,
            "object_fit": null,
            "object_position": null,
            "order": null,
            "overflow": null,
            "overflow_x": null,
            "overflow_y": null,
            "padding": null,
            "right": null,
            "top": null,
            "visibility": null,
            "width": null
          }
        },
        "fcccc21c227d45a394b55c93903520fb": {
          "model_module": "@jupyter-widgets/base",
          "model_name": "LayoutModel",
          "model_module_version": "1.2.0",
          "state": {
            "_model_module": "@jupyter-widgets/base",
            "_model_module_version": "1.2.0",
            "_model_name": "LayoutModel",
            "_view_count": null,
            "_view_module": "@jupyter-widgets/base",
            "_view_module_version": "1.2.0",
            "_view_name": "LayoutView",
            "align_content": null,
            "align_items": null,
            "align_self": null,
            "border": null,
            "bottom": null,
            "display": null,
            "flex": null,
            "flex_flow": null,
            "grid_area": null,
            "grid_auto_columns": null,
            "grid_auto_flow": null,
            "grid_auto_rows": null,
            "grid_column": null,
            "grid_gap": null,
            "grid_row": null,
            "grid_template_areas": null,
            "grid_template_columns": null,
            "grid_template_rows": null,
            "height": null,
            "justify_content": null,
            "justify_items": null,
            "left": null,
            "margin": null,
            "max_height": null,
            "max_width": null,
            "min_height": null,
            "min_width": null,
            "object_fit": null,
            "object_position": null,
            "order": null,
            "overflow": null,
            "overflow_x": null,
            "overflow_y": null,
            "padding": null,
            "right": null,
            "top": null,
            "visibility": null,
            "width": null
          }
        },
        "5377fa898e454453b7c9fd88539ca0bb": {
          "model_module": "@jupyter-widgets/controls",
          "model_name": "DescriptionStyleModel",
          "model_module_version": "1.5.0",
          "state": {
            "_model_module": "@jupyter-widgets/controls",
            "_model_module_version": "1.5.0",
            "_model_name": "DescriptionStyleModel",
            "_view_count": null,
            "_view_module": "@jupyter-widgets/base",
            "_view_module_version": "1.2.0",
            "_view_name": "StyleView",
            "description_width": ""
          }
        },
        "206e979fea23418089edf622479f00cf": {
          "model_module": "@jupyter-widgets/base",
          "model_name": "LayoutModel",
          "model_module_version": "1.2.0",
          "state": {
            "_model_module": "@jupyter-widgets/base",
            "_model_module_version": "1.2.0",
            "_model_name": "LayoutModel",
            "_view_count": null,
            "_view_module": "@jupyter-widgets/base",
            "_view_module_version": "1.2.0",
            "_view_name": "LayoutView",
            "align_content": null,
            "align_items": null,
            "align_self": null,
            "border": null,
            "bottom": null,
            "display": null,
            "flex": null,
            "flex_flow": null,
            "grid_area": null,
            "grid_auto_columns": null,
            "grid_auto_flow": null,
            "grid_auto_rows": null,
            "grid_column": null,
            "grid_gap": null,
            "grid_row": null,
            "grid_template_areas": null,
            "grid_template_columns": null,
            "grid_template_rows": null,
            "height": null,
            "justify_content": null,
            "justify_items": null,
            "left": null,
            "margin": null,
            "max_height": null,
            "max_width": null,
            "min_height": null,
            "min_width": null,
            "object_fit": null,
            "object_position": null,
            "order": null,
            "overflow": null,
            "overflow_x": null,
            "overflow_y": null,
            "padding": null,
            "right": null,
            "top": null,
            "visibility": null,
            "width": null
          }
        },
        "312c490e5fd2438c973402b3b7ef0ce9": {
          "model_module": "@jupyter-widgets/controls",
          "model_name": "DescriptionStyleModel",
          "model_module_version": "1.5.0",
          "state": {
            "_model_module": "@jupyter-widgets/controls",
            "_model_module_version": "1.5.0",
            "_model_name": "DescriptionStyleModel",
            "_view_count": null,
            "_view_module": "@jupyter-widgets/base",
            "_view_module_version": "1.2.0",
            "_view_name": "StyleView",
            "description_width": ""
          }
        },
        "87601a3a23d6479b842b8d65b48f01c8": {
          "model_module": "@jupyter-widgets/base",
          "model_name": "LayoutModel",
          "model_module_version": "1.2.0",
          "state": {
            "_model_module": "@jupyter-widgets/base",
            "_model_module_version": "1.2.0",
            "_model_name": "LayoutModel",
            "_view_count": null,
            "_view_module": "@jupyter-widgets/base",
            "_view_module_version": "1.2.0",
            "_view_name": "LayoutView",
            "align_content": null,
            "align_items": null,
            "align_self": null,
            "border": null,
            "bottom": null,
            "display": null,
            "flex": null,
            "flex_flow": null,
            "grid_area": null,
            "grid_auto_columns": null,
            "grid_auto_flow": null,
            "grid_auto_rows": null,
            "grid_column": null,
            "grid_gap": null,
            "grid_row": null,
            "grid_template_areas": null,
            "grid_template_columns": null,
            "grid_template_rows": null,
            "height": null,
            "justify_content": null,
            "justify_items": null,
            "left": null,
            "margin": null,
            "max_height": null,
            "max_width": null,
            "min_height": null,
            "min_width": null,
            "object_fit": null,
            "object_position": null,
            "order": null,
            "overflow": null,
            "overflow_x": null,
            "overflow_y": null,
            "padding": null,
            "right": null,
            "top": null,
            "visibility": null,
            "width": null
          }
        },
        "64972564b22341b9839553a7e69e6a3c": {
          "model_module": "@jupyter-widgets/controls",
          "model_name": "DescriptionStyleModel",
          "model_module_version": "1.5.0",
          "state": {
            "_model_module": "@jupyter-widgets/controls",
            "_model_module_version": "1.5.0",
            "_model_name": "DescriptionStyleModel",
            "_view_count": null,
            "_view_module": "@jupyter-widgets/base",
            "_view_module_version": "1.2.0",
            "_view_name": "StyleView",
            "description_width": ""
          }
        },
        "863a76cbd9484508844b205896d77f2b": {
          "model_module": "@jupyter-widgets/base",
          "model_name": "LayoutModel",
          "model_module_version": "1.2.0",
          "state": {
            "_model_module": "@jupyter-widgets/base",
            "_model_module_version": "1.2.0",
            "_model_name": "LayoutModel",
            "_view_count": null,
            "_view_module": "@jupyter-widgets/base",
            "_view_module_version": "1.2.0",
            "_view_name": "LayoutView",
            "align_content": null,
            "align_items": null,
            "align_self": null,
            "border": null,
            "bottom": null,
            "display": null,
            "flex": null,
            "flex_flow": null,
            "grid_area": null,
            "grid_auto_columns": null,
            "grid_auto_flow": null,
            "grid_auto_rows": null,
            "grid_column": null,
            "grid_gap": null,
            "grid_row": null,
            "grid_template_areas": null,
            "grid_template_columns": null,
            "grid_template_rows": null,
            "height": null,
            "justify_content": null,
            "justify_items": null,
            "left": null,
            "margin": null,
            "max_height": null,
            "max_width": null,
            "min_height": null,
            "min_width": null,
            "object_fit": null,
            "object_position": null,
            "order": null,
            "overflow": null,
            "overflow_x": null,
            "overflow_y": null,
            "padding": null,
            "right": null,
            "top": null,
            "visibility": null,
            "width": null
          }
        },
        "93d1b3255d084f06afe1c49080b6dac2": {
          "model_module": "@jupyter-widgets/controls",
          "model_name": "DescriptionStyleModel",
          "model_module_version": "1.5.0",
          "state": {
            "_model_module": "@jupyter-widgets/controls",
            "_model_module_version": "1.5.0",
            "_model_name": "DescriptionStyleModel",
            "_view_count": null,
            "_view_module": "@jupyter-widgets/base",
            "_view_module_version": "1.2.0",
            "_view_name": "StyleView",
            "description_width": ""
          }
        },
        "04c40488adc64ca5a960a1a26b8ceb66": {
          "model_module": "@jupyter-widgets/controls",
          "model_name": "HBoxModel",
          "model_module_version": "1.5.0",
          "state": {
            "_dom_classes": [],
            "_model_module": "@jupyter-widgets/controls",
            "_model_module_version": "1.5.0",
            "_model_name": "HBoxModel",
            "_view_count": null,
            "_view_module": "@jupyter-widgets/controls",
            "_view_module_version": "1.5.0",
            "_view_name": "HBoxView",
            "box_style": "",
            "children": [
              "IPY_MODEL_d62d9be6b74342749eb36c67187fd30f",
              "IPY_MODEL_91d06044d07c43ae9cfec021fca1f85e"
            ],
            "layout": "IPY_MODEL_2a730217ab16499dbc588c9282a827d6"
          }
        },
        "d62d9be6b74342749eb36c67187fd30f": {
          "model_module": "@jupyter-widgets/controls",
          "model_name": "ButtonModel",
          "model_module_version": "1.5.0",
          "state": {
            "_dom_classes": [],
            "_model_module": "@jupyter-widgets/controls",
            "_model_module_version": "1.5.0",
            "_model_name": "ButtonModel",
            "_view_count": null,
            "_view_module": "@jupyter-widgets/controls",
            "_view_module_version": "1.5.0",
            "_view_name": "ButtonView",
            "button_style": "",
            "description": "Calculate",
            "disabled": false,
            "icon": "",
            "layout": "IPY_MODEL_02cc929707b24c55b9346d4df33db5e7",
            "style": "IPY_MODEL_e30199e281fd4c0fbde7b4b6be3739a0",
            "tooltip": ""
          }
        },
        "91d06044d07c43ae9cfec021fca1f85e": {
          "model_module": "@jupyter-widgets/controls",
          "model_name": "ButtonModel",
          "model_module_version": "1.5.0",
          "state": {
            "_dom_classes": [],
            "_model_module": "@jupyter-widgets/controls",
            "_model_module_version": "1.5.0",
            "_model_name": "ButtonModel",
            "_view_count": null,
            "_view_module": "@jupyter-widgets/controls",
            "_view_module_version": "1.5.0",
            "_view_name": "ButtonView",
            "button_style": "",
            "description": "Stop",
            "disabled": false,
            "icon": "",
            "layout": "IPY_MODEL_d0922276db4a4767bed3f70c10862b1d",
            "style": "IPY_MODEL_ece03aa51997410eb8e9e2725d1bc378",
            "tooltip": ""
          }
        },
        "2a730217ab16499dbc588c9282a827d6": {
          "model_module": "@jupyter-widgets/base",
          "model_name": "LayoutModel",
          "model_module_version": "1.2.0",
          "state": {
            "_model_module": "@jupyter-widgets/base",
            "_model_module_version": "1.2.0",
            "_model_name": "LayoutModel",
            "_view_count": null,
            "_view_module": "@jupyter-widgets/base",
            "_view_module_version": "1.2.0",
            "_view_name": "LayoutView",
            "align_content": null,
            "align_items": null,
            "align_self": null,
            "border": null,
            "bottom": null,
            "display": null,
            "flex": null,
            "flex_flow": null,
            "grid_area": null,
            "grid_auto_columns": null,
            "grid_auto_flow": null,
            "grid_auto_rows": null,
            "grid_column": null,
            "grid_gap": null,
            "grid_row": null,
            "grid_template_areas": null,
            "grid_template_columns": null,
            "grid_template_rows": null,
            "height": null,
            "justify_content": null,
            "justify_items": null,
            "left": null,
            "margin": null,
            "max_height": null,
            "max_width": null,
            "min_height": null,
            "min_width": null,
            "object_fit": null,
            "object_position": null,
            "order": null,
            "overflow": null,
            "overflow_x": null,
            "overflow_y": null,
            "padding": null,
            "right": null,
            "top": null,
            "visibility": null,
            "width": null
          }
        },
        "02cc929707b24c55b9346d4df33db5e7": {
          "model_module": "@jupyter-widgets/base",
          "model_name": "LayoutModel",
          "model_module_version": "1.2.0",
          "state": {
            "_model_module": "@jupyter-widgets/base",
            "_model_module_version": "1.2.0",
            "_model_name": "LayoutModel",
            "_view_count": null,
            "_view_module": "@jupyter-widgets/base",
            "_view_module_version": "1.2.0",
            "_view_name": "LayoutView",
            "align_content": null,
            "align_items": null,
            "align_self": null,
            "border": null,
            "bottom": null,
            "display": null,
            "flex": null,
            "flex_flow": null,
            "grid_area": null,
            "grid_auto_columns": null,
            "grid_auto_flow": null,
            "grid_auto_rows": null,
            "grid_column": null,
            "grid_gap": null,
            "grid_row": null,
            "grid_template_areas": null,
            "grid_template_columns": null,
            "grid_template_rows": null,
            "height": null,
            "justify_content": null,
            "justify_items": null,
            "left": null,
            "margin": null,
            "max_height": null,
            "max_width": null,
            "min_height": null,
            "min_width": null,
            "object_fit": null,
            "object_position": null,
            "order": null,
            "overflow": null,
            "overflow_x": null,
            "overflow_y": null,
            "padding": null,
            "right": null,
            "top": null,
            "visibility": null,
            "width": null
          }
        },
        "e30199e281fd4c0fbde7b4b6be3739a0": {
          "model_module": "@jupyter-widgets/controls",
          "model_name": "ButtonStyleModel",
          "model_module_version": "1.5.0",
          "state": {
            "_model_module": "@jupyter-widgets/controls",
            "_model_module_version": "1.5.0",
            "_model_name": "ButtonStyleModel",
            "_view_count": null,
            "_view_module": "@jupyter-widgets/base",
            "_view_module_version": "1.2.0",
            "_view_name": "StyleView",
            "button_color": null,
            "font_weight": ""
          }
        },
        "d0922276db4a4767bed3f70c10862b1d": {
          "model_module": "@jupyter-widgets/base",
          "model_name": "LayoutModel",
          "model_module_version": "1.2.0",
          "state": {
            "_model_module": "@jupyter-widgets/base",
            "_model_module_version": "1.2.0",
            "_model_name": "LayoutModel",
            "_view_count": null,
            "_view_module": "@jupyter-widgets/base",
            "_view_module_version": "1.2.0",
            "_view_name": "LayoutView",
            "align_content": null,
            "align_items": null,
            "align_self": null,
            "border": null,
            "bottom": null,
            "display": null,
            "flex": null,
            "flex_flow": null,
            "grid_area": null,
            "grid_auto_columns": null,
            "grid_auto_flow": null,
            "grid_auto_rows": null,
            "grid_column": null,
            "grid_gap": null,
            "grid_row": null,
            "grid_template_areas": null,
            "grid_template_columns": null,
            "grid_template_rows": null,
            "height": null,
            "justify_content": null,
            "justify_items": null,
            "left": null,
            "margin": null,
            "max_height": null,
            "max_width": null,
            "min_height": null,
            "min_width": null,
            "object_fit": null,
            "object_position": null,
            "order": null,
            "overflow": null,
            "overflow_x": null,
            "overflow_y": null,
            "padding": null,
            "right": null,
            "top": null,
            "visibility": null,
            "width": null
          }
        },
        "ece03aa51997410eb8e9e2725d1bc378": {
          "model_module": "@jupyter-widgets/controls",
          "model_name": "ButtonStyleModel",
          "model_module_version": "1.5.0",
          "state": {
            "_model_module": "@jupyter-widgets/controls",
            "_model_module_version": "1.5.0",
            "_model_name": "ButtonStyleModel",
            "_view_count": null,
            "_view_module": "@jupyter-widgets/base",
            "_view_module_version": "1.2.0",
            "_view_name": "StyleView",
            "button_color": null,
            "font_weight": ""
          }
        },
        "38742ebaeab84c7183ae2b333d51c97f": {
          "model_module": "@jupyter-widgets/output",
          "model_name": "OutputModel",
          "model_module_version": "1.0.0",
          "state": {
            "_dom_classes": [],
            "_model_module": "@jupyter-widgets/output",
            "_model_module_version": "1.0.0",
            "_model_name": "OutputModel",
            "_view_count": null,
            "_view_module": "@jupyter-widgets/output",
            "_view_module_version": "1.0.0",
            "_view_name": "OutputView",
            "layout": "IPY_MODEL_bfb9143732b5499894a9e33071fae900",
            "msg_id": "",
            "outputs": [
              {
                "output_type": "stream",
                "name": "stdout",
                "text": [
                  "\n",
                  "\u001b[1mComputed values:\u001b[0m\n",
                  "z=\n"
                ]
              },
              {
                "output_type": "display_data",
                "data": {
                  "text/plain": "Matrix([\n[1.0, 2.0],\n[3.0, 4.0]])",
                  "text/latex": "$\\displaystyle \\left[\\begin{matrix}1.0 & 2.0\\\\3.0 & 4.0\\end{matrix}\\right]$"
                },
                "metadata": {}
              },
              {
                "output_type": "stream",
                "name": "stdout",
                "text": [
                  "\n",
                  "y=\n"
                ]
              },
              {
                "output_type": "display_data",
                "data": {
                  "text/plain": "Matrix([\n[-2.0,  1.0],\n[ 1.5, -0.5]])",
                  "text/latex": "$\\displaystyle \\left[\\begin{matrix}-2.0 & 1.0\\\\1.5 & -0.5\\end{matrix}\\right]$"
                },
                "metadata": {}
              },
              {
                "output_type": "stream",
                "name": "stdout",
                "text": [
                  "\n",
                  "h=\n"
                ]
              },
              {
                "output_type": "display_data",
                "data": {
                  "text/plain": "Matrix([\n[ -0.5,  0.5],\n[-0.75, 0.25]])",
                  "text/latex": "$\\displaystyle \\left[\\begin{matrix}-0.5 & 0.5\\\\-0.75 & 0.25\\end{matrix}\\right]$"
                },
                "metadata": {}
              },
              {
                "output_type": "stream",
                "name": "stdout",
                "text": [
                  "\n",
                  "g=\n"
                ]
              },
              {
                "output_type": "display_data",
                "data": {
                  "text/plain": "Matrix([\n[1.0, -2.0],\n[3.0, -2.0]])",
                  "text/latex": "$\\displaystyle \\left[\\begin{matrix}1.0 & -2.0\\\\3.0 & -2.0\\end{matrix}\\right]$"
                },
                "metadata": {}
              },
              {
                "output_type": "stream",
                "name": "stdout",
                "text": [
                  "\n",
                  "a=\n"
                ]
              },
              {
                "output_type": "display_data",
                "data": {
                  "text/plain": "Matrix([\n[0.33, -0.67],\n[0.33,   1.3]])",
                  "text/latex": "$\\displaystyle \\left[\\begin{matrix}0.33 & -0.67\\\\0.33 & 1.3\\end{matrix}\\right]$"
                },
                "metadata": {}
              },
              {
                "output_type": "stream",
                "name": "stdout",
                "text": [
                  "\n",
                  "b=\n"
                ]
              },
              {
                "output_type": "display_data",
                "data": {
                  "text/plain": "Matrix([\n[2.0, -1.0],\n[0.5,  0.5]])",
                  "text/latex": "$\\displaystyle \\left[\\begin{matrix}2.0 & -1.0\\\\0.5 & 0.5\\end{matrix}\\right]$"
                },
                "metadata": {}
              },
              {
                "output_type": "stream",
                "name": "stdout",
                "text": [
                  "\n",
                  "\n",
                  "\n",
                  "\n"
                ]
              },
              {
                "output_type": "stream",
                "name": "stdout",
                "text": [
                  "\n",
                  "\u001b[1mComputed values:\u001b[0m\n",
                  "z=\n"
                ]
              },
              {
                "output_type": "display_data",
                "data": {
                  "text/plain": "Matrix([\n[1.0, 2.0],\n[3.0, 4.0]])",
                  "text/latex": "$\\displaystyle \\left[\\begin{matrix}1.0 & 2.0\\\\3.0 & 4.0\\end{matrix}\\right]$"
                },
                "metadata": {}
              },
              {
                "output_type": "stream",
                "name": "stdout",
                "text": [
                  "\n",
                  "y=\n"
                ]
              },
              {
                "output_type": "display_data",
                "data": {
                  "text/plain": "Matrix([\n[-2.0,  1.0],\n[ 1.5, -0.5]])",
                  "text/latex": "$\\displaystyle \\left[\\begin{matrix}-2.0 & 1.0\\\\1.5 & -0.5\\end{matrix}\\right]$"
                },
                "metadata": {}
              },
              {
                "output_type": "stream",
                "name": "stdout",
                "text": [
                  "\n",
                  "h=\n"
                ]
              },
              {
                "output_type": "display_data",
                "data": {
                  "text/plain": "Matrix([\n[ -0.5,  0.5],\n[-0.75, 0.25]])",
                  "text/latex": "$\\displaystyle \\left[\\begin{matrix}-0.5 & 0.5\\\\-0.75 & 0.25\\end{matrix}\\right]$"
                },
                "metadata": {}
              },
              {
                "output_type": "stream",
                "name": "stdout",
                "text": [
                  "\n",
                  "g=\n"
                ]
              },
              {
                "output_type": "display_data",
                "data": {
                  "text/plain": "Matrix([\n[1.0, -2.0],\n[3.0, -2.0]])",
                  "text/latex": "$\\displaystyle \\left[\\begin{matrix}1.0 & -2.0\\\\3.0 & -2.0\\end{matrix}\\right]$"
                },
                "metadata": {}
              },
              {
                "output_type": "stream",
                "name": "stdout",
                "text": [
                  "\n",
                  "a=\n"
                ]
              },
              {
                "output_type": "display_data",
                "data": {
                  "text/plain": "Matrix([\n[0.33, -0.67],\n[0.33,   1.3]])",
                  "text/latex": "$\\displaystyle \\left[\\begin{matrix}0.33 & -0.67\\\\0.33 & 1.3\\end{matrix}\\right]$"
                },
                "metadata": {}
              },
              {
                "output_type": "stream",
                "name": "stdout",
                "text": [
                  "\n",
                  "b=\n"
                ]
              },
              {
                "output_type": "display_data",
                "data": {
                  "text/plain": "Matrix([\n[2.0, -1.0],\n[0.5,  0.5]])",
                  "text/latex": "$\\displaystyle \\left[\\begin{matrix}2.0 & -1.0\\\\0.5 & 0.5\\end{matrix}\\right]$"
                },
                "metadata": {}
              },
              {
                "output_type": "stream",
                "name": "stdout",
                "text": [
                  "\n",
                  "\n",
                  "\n",
                  "\n"
                ]
              }
            ]
          }
        },
        "bfb9143732b5499894a9e33071fae900": {
          "model_module": "@jupyter-widgets/base",
          "model_name": "LayoutModel",
          "model_module_version": "1.2.0",
          "state": {
            "_model_module": "@jupyter-widgets/base",
            "_model_module_version": "1.2.0",
            "_model_name": "LayoutModel",
            "_view_count": null,
            "_view_module": "@jupyter-widgets/base",
            "_view_module_version": "1.2.0",
            "_view_name": "LayoutView",
            "align_content": null,
            "align_items": null,
            "align_self": null,
            "border": null,
            "bottom": null,
            "display": null,
            "flex": null,
            "flex_flow": null,
            "grid_area": null,
            "grid_auto_columns": null,
            "grid_auto_flow": null,
            "grid_auto_rows": null,
            "grid_column": null,
            "grid_gap": null,
            "grid_row": null,
            "grid_template_areas": null,
            "grid_template_columns": null,
            "grid_template_rows": null,
            "height": null,
            "justify_content": null,
            "justify_items": null,
            "left": null,
            "margin": null,
            "max_height": null,
            "max_width": null,
            "min_height": null,
            "min_width": null,
            "object_fit": null,
            "object_position": null,
            "order": null,
            "overflow": null,
            "overflow_x": null,
            "overflow_y": null,
            "padding": null,
            "right": null,
            "top": null,
            "visibility": null,
            "width": null
          }
        }
      }
    }
  },
  "cells": [
    {
      "cell_type": "markdown",
      "metadata": {
        "id": "view-in-github",
        "colab_type": "text"
      },
      "source": [
        "<a href=\"https://colab.research.google.com/github/kiva-mccr/Linear-Circuits-2-Calculator/blob/main/Linear-Circuits-2-Calculator.ipynb\" target=\"_parent\"><img src=\"https://colab.research.google.com/assets/colab-badge.svg\" alt=\"Open In Colab\"/></a>"
      ]
    },
    {
      "cell_type": "code",
      "source": [
        "#@title The following code is student built & run, and may contain errors. **Please run & press the button below to acknowledge this risk, and that author(s) are not responsible.**\n",
        "\n",
        "import ipywidgets as widgets\n",
        "from IPython.display import display\n",
        "import sympy as sym\n",
        "from sympy.abc import s, t\n",
        "import IPython.display as disp\n",
        "from IPython.display import Math\n",
        "from google.colab import runtime\n",
        "import numpy as np\n",
        "import cmath\n",
        "import matplotlib.pyplot as plt\n",
        "\n",
        "try: del riskacknowledgement\n",
        "except: none = True\n",
        "\n",
        "# Define the button click handler\n",
        "def on_button_clicked(b):\n",
        "    global riskacknowledgement\n",
        "    riskacknowledgement = True\n",
        "    print(\"Thanks, you are good to continue. ♡\")\n",
        "\n",
        "# Create the button\n",
        "button = widgets.Button(description=\"I Accept\")\n",
        "\n",
        "# Attach the click handler to the button\n",
        "button.on_click(on_button_clicked)\n",
        "\n",
        "# Display the button\n",
        "display(button)"
      ],
      "metadata": {
        "id": "wJg5Fb71Q_mo",
        "outputId": "d1b428ac-4e63-4f32-d4ea-137b9ba905b9",
        "colab": {
          "base_uri": "https://localhost:8080/",
          "height": 67,
          "referenced_widgets": [
            "3c0a76f89f934b33af551a5265ffeae5",
            "127c76c2c6a94fce87fc88cafc92baaa",
            "9998c6a4361b4a53b81d9221001b73ad"
          ]
        },
        "cellView": "form"
      },
      "execution_count": null,
      "outputs": [
        {
          "output_type": "display_data",
          "data": {
            "text/plain": [
              "Button(description='I Accept', style=ButtonStyle())"
            ],
            "application/vnd.jupyter.widget-view+json": {
              "version_major": 2,
              "version_minor": 0,
              "model_id": "3c0a76f89f934b33af551a5265ffeae5"
            }
          },
          "metadata": {}
        },
        {
          "output_type": "stream",
          "name": "stdout",
          "text": [
            "Thanks, you are good to continue. ♡\n"
          ]
        }
      ]
    },
    {
      "cell_type": "code",
      "execution_count": null,
      "metadata": {
        "colab": {
          "base_uri": "https://localhost:8080/",
          "height": 378
        },
        "id": "L3OOmR5643BJ",
        "outputId": "26444c2e-43cd-4f38-a112-0f02160a22ac",
        "cellView": "form"
      },
      "outputs": [
        {
          "output_type": "stream",
          "name": "stdout",
          "text": [
            "All entries must adhere to programming mathematical convention, ex. 5*s' not '5s'. Press enter to exit.\n",
            "\n",
            "\n",
            "\u001b[1mInsert a Laplace function in terms of 's': \u001b[0m\n",
            "1/s^3\n",
            "\n",
            "\u001b[1mYour Input:\u001b[0m\n"
          ]
        },
        {
          "output_type": "display_data",
          "data": {
            "text/latex": "$\\displaystyle \\frac{1}{s^{3}}$"
          },
          "metadata": {}
        },
        {
          "output_type": "stream",
          "name": "stdout",
          "text": [
            "\n",
            "\u001b[1mYour Output:\u001b[0m\n"
          ]
        },
        {
          "output_type": "display_data",
          "data": {
            "text/latex": "$\\displaystyle 0.5 t^{2} u{\\left(t \\right)}$"
          },
          "metadata": {}
        },
        {
          "output_type": "stream",
          "name": "stdout",
          "text": [
            "\n",
            "\n",
            "\n",
            "\n",
            "\u001b[1mInsert a Laplace function in terms of 's': \u001b[0m\n",
            "\n",
            "\n",
            "End of runtime...\n"
          ]
        }
      ],
      "source": [
        "#@title Inverse Laplace Calculator\n",
        "\n",
        "## Functions\n",
        "def inverse_laplace():\n",
        "  print(\"\\033[1mInsert a Laplace function in terms of 's': \\033[0m\")\n",
        "  function_text = input()\n",
        "  if function_text == \"\":\n",
        "    return \"exit\"\n",
        "  function_text = function_text.lower()\n",
        "  function_text = function_text.replace(')(', ') * (')\n",
        "  function = sym.sympify(function_text)\n",
        "  symfy_function = sym.sympify(function)\n",
        "  symfy_function_display = sym.N(symfy_function, 2)\n",
        "\n",
        "  print(\"\\n\\033[1mYour Input:\\033[0m\")\n",
        "  disp.display_latex(symfy_function_display)\n",
        "\n",
        "  # Perform partial fraction decomposition\n",
        "  partial_fraction = sym.apart(symfy_function, s)  # Added this line\n",
        "\n",
        "  # Perform inverse Laplace transform\n",
        "  invlap_function = sym.inverse_laplace_transform(partial_fraction, s, t)\n",
        "  invlap_function = invlap_function.subs(sym.Heaviside(t), 'u(t)')\n",
        "\n",
        "  # Replace hyperbolic trigonometric functions with their exponential equivalents\n",
        "  invlap_function = invlap_function.rewrite(sym.sinh, sym.exp).rewrite(sym.cosh, sym.exp)\n",
        "\n",
        "  # Simplify the expression while avoiding hyperbolic trigonometric functions\n",
        "  invlap_function = sym.simplify(invlap_function)\n",
        "\n",
        "  # Expand the expression to distribute out terms\n",
        "  invlap_function = sym.expand(invlap_function)\n",
        "  ans = invlap_function\n",
        "  # Format output with digits rounded to two decimal places and display exponent\n",
        "  invlap_function = sym.N(invlap_function, 2)\n",
        "  print(\"\\n\\033[1mYour Output:\\033[0m\")  # This line will make the output bold\n",
        "  disp.display_latex(invlap_function)\n",
        "  print(\"\\n\\n\\n\")\n",
        "  return invlap_function\n",
        "\n",
        "# Check if the 'riskacknowledgement' variable exists\n",
        "if 'riskacknowledgement' in locals():\n",
        "    # The variable exists\n",
        "    if riskacknowledgement == True:\n",
        "        ##\n",
        "        ## UI\n",
        "        print(\"All entries must adhere to programming mathematical convention, ex. 5*s' not '5s'. Press enter to exit.\\n\\n\")\n",
        "        inv_lap_ans = \"\"\n",
        "        while True:\n",
        "          if inv_lap_ans == \"exit\":\n",
        "            print(\"\\nEnd of runtime...\")\n",
        "            break\n",
        "          inv_lap_ans = inverse_laplace()\n",
        "          ##\n",
        "    else:\n",
        "        # Exit the block without terminating the runtime\n",
        "        print(\"\\033[1mPlease acknowledge risk before continuing.\\033[0m\")\n",
        "        print(\"\\nEnd of runtime...\")\n",
        "else:\n",
        "    # The variable does not exist\n",
        "    print(\"\\033[1mPlease acknowledge risk before continuing.\\033[0m\")\n",
        "    print(\"\\nEnd of runtime...\")"
      ]
    },
    {
      "cell_type": "markdown",
      "source": [
        "\n",
        "\n",
        "---\n",
        "\n"
      ],
      "metadata": {
        "id": "gMLoJym0ALx-"
      }
    },
    {
      "cell_type": "code",
      "source": [
        "#@title Two-Port Parameter Calculator\n",
        "\n",
        "## Functions\n",
        "def parameter(param, val11, val12, val21, val22):\n",
        "  function_text = param\n",
        "  function_text = function_text.lower()\n",
        "  if function_text == \"\":\n",
        "    return \"exit\"\n",
        "  if function_text == \"z\":\n",
        "    z_11 = sym.sympify(val11)\n",
        "    z_12 = sym.sympify(val12)\n",
        "    z_21 = sym.sympify(val21)\n",
        "    z_22 = sym.sympify(val22)\n",
        "\n",
        "    # Calculate delta value\n",
        "    z_delta = (z_11 * z_22) - (z_12 * z_21)\n",
        "\n",
        "    # Define and print matricies\n",
        "    print(\"\\n\\033[1mComputed values:\\033[0m\")\n",
        "    #z\n",
        "    z_matrix = [[sym.N(z_11,2), sym.N(z_12,2)], [sym.N(z_21,2), sym.N(z_22,2)]]\n",
        "    print(\"z=\")\n",
        "    disp.display(sym.Matrix(z_matrix))\n",
        "    #y\n",
        "    y_matrix = [[sym.N(sym.sympify(z_22/z_delta),2), sym.N(sym.sympify(-z_12/z_delta),2)], [sym.N(sym.sympify(-z_21/z_delta),2), sym.N(sym.sympify(z_11/z_delta),2)]]\n",
        "    print(\"\\ny=\")\n",
        "    disp.display(sym.Matrix(y_matrix))\n",
        "    #h\n",
        "    h_matrix = [[sym.N(z_delta/z_22,2), sym.N(z_12/z_22,2)], [sym.N(-z_21/z_22,2), sym.N(1/z_22,2)]]\n",
        "    print(\"\\nh=\")\n",
        "    disp.display(sym.Matrix(h_matrix))\n",
        "    #g\n",
        "    g_matrix = [[sym.N(1/z_11,2), sym.N(-z_12/z_11,2)], [sym.N(z_21/z_11,2), sym.N(z_delta/z_11,2)]]\n",
        "    print(\"\\ng=\")\n",
        "    disp.display(sym.Matrix(g_matrix))\n",
        "    #a\n",
        "    a_matrix = [[sym.N(z_11/z_21,2), sym.N(z_delta/z_21,2)], [sym.N(1/z_21,2), sym.N(z_22/z_21,2)]]\n",
        "    print(\"\\na=\")\n",
        "    disp.display(sym.Matrix(a_matrix))\n",
        "    #b\n",
        "    b_matrix = [[sym.N(z_22/z_12,2), sym.N(z_delta/z_12,2)], [sym.N(1/z_12,2), sym.N(z_11/z_12,2)]]\n",
        "    print(\"\\nb=\")\n",
        "    disp.display(sym.Matrix(b_matrix))\n",
        "  if function_text == \"y\":\n",
        "    y_11 = sym.sympify(val11)\n",
        "    y_12 = sym.sympify(val12)\n",
        "    y_21 = sym.sympify(val21)\n",
        "    y_22 = sym.sympify(val22)\n",
        "\n",
        "    # Calculate delta value\n",
        "    y_delta = (y_11 * y_22) - (y_12 * y_21)\n",
        "\n",
        "    # Define and print matricies\n",
        "    print(\"\\n\\033[1mComputed values:\\033[0m\")\n",
        "    #z\n",
        "    z_matrix = [[sym.N(y_22/y_delta,2), sym.N(-y_12/y_delta,2)], [sym.N(-y_21/y_delta,2), sym.N(y_11/y_delta,2)]]\n",
        "    print(\"z=\")\n",
        "    disp.display(sym.Matrix(z_matrix))\n",
        "    #y\n",
        "    y_matrix = [[sym.N(sym.sympify(y_11),2), sym.N(sym.sympify(y_12),2)], [sym.N(sym.sympify(y_21),2), sym.N(sym.sympify(y_22),2)]]\n",
        "    print(\"\\ny=\")\n",
        "    disp.display(sym.Matrix(y_matrix))\n",
        "    #h\n",
        "    h_matrix = [[sym.N(1/y_11,2), sym.N(-y_12/y_11,2)], [sym.N(y_21/y_11,2), sym.N(y_delta/y_11,2)]]\n",
        "    print(\"\\nh=\")\n",
        "    disp.display(sym.Matrix(h_matrix))\n",
        "    #g\n",
        "    g_matrix = [[sym.N(y_delta/y_22,2), sym.N(y_12/y_22,2)], [sym.N(-y_21/y_22,2), sym.N(1/y_22,2)]]\n",
        "    print(\"\\ng=\")\n",
        "    disp.display(sym.Matrix(g_matrix))\n",
        "    #a\n",
        "    a_matrix = [[sym.N(-y_22/y_21,2), sym.N(-1/y_21,2)], [sym.N(-y_delta/y_21,2), sym.N(-y_11/y_21,2)]]\n",
        "    print(\"\\na=\")\n",
        "    disp.display(sym.Matrix(a_matrix))\n",
        "    #b\n",
        "    b_matrix = [[sym.N(-y_11/y_12,2), sym.N(-1/y_12,2)], [sym.N(-y_delta/y_12,2), sym.N(y_22/y_12,2)]]\n",
        "    print(\"\\nb=\")\n",
        "    disp.display(sym.Matrix(b_matrix))\n",
        "  if function_text == \"h\":\n",
        "    h_11 = sym.sympify(val11)\n",
        "    h_12 = sym.sympify(val12)\n",
        "    h_21 = sym.sympify(val21)\n",
        "    h_22 = sym.sympify(val22)\n",
        "\n",
        "    # Calculate delta value\n",
        "    h_delta = (h_11 * h_22) - (h_12 * h_21)\n",
        "\n",
        "    # Define and print matricies\n",
        "    print(\"\\n\\033[1mComputed values:\\033[0m\")\n",
        "    #z\n",
        "    z_matrix = [[sym.N(h_delta/h_22,2), sym.N(h_12/h_22,2)], [sym.N(-h_21/h_22,2), sym.N(1/h_22,2)]]\n",
        "    print(\"z=\")\n",
        "    disp.display(sym.Matrix(z_matrix))\n",
        "    #y\n",
        "    y_matrix = [[sym.N(1/h_11,2), sym.N(-h_12/h_11,2)], [sym.N(h_21/h_11,2), sym.N(h_delta/h_11,2)]]\n",
        "    print(\"\\ny=\")\n",
        "    disp.display(sym.Matrix(y_matrix))\n",
        "    #h\n",
        "    h_matrix = [[sym.N(h_11,2), sym.N(h_12,2)], [sym.N(h_21,2), sym.N(h_22,2)]]\n",
        "    print(\"\\nh=\")\n",
        "    disp.display(sym.Matrix(h_matrix))\n",
        "    #g\n",
        "    g_matrix = [[sym.N(h_22/h_delta,2), sym.N(-h_12/h_delta,2)], [sym.N(-h_21/h_delta,2), sym.N(h_11/h_delta,2)]]\n",
        "    print(\"\\ng=\")\n",
        "    disp.display(sym.Matrix(g_matrix))\n",
        "    #a\n",
        "    a_matrix = [[sym.N(-h_delta/h_21,2), sym.N(-h_11/h_21,2)], [sym.N(-h_22/h_21,2), sym.N(-1/h_21,2)]]\n",
        "    print(\"\\na=\")\n",
        "    disp.display(sym.Matrix(a_matrix))\n",
        "    #b\n",
        "    b_matrix = [[sym.N(1/h_12,2), sym.N(h_11/h_12,2)], [sym.N(h_22/h_12,2), sym.N(h_delta/h_12,2)]]\n",
        "    print(\"\\nb=\")\n",
        "    disp.display(sym.Matrix(b_matrix))\n",
        "  if function_text == \"g\":\n",
        "    g_11 = sym.sympify(val11)\n",
        "    g_12 = sym.sympify(val12)\n",
        "    g_21 = sym.sympify(val21)\n",
        "    g_22 = sym.sympify(val22)\n",
        "\n",
        "    # Calculate delta value\n",
        "    g_delta = (g_11 * g_22) - (g_12 * g_21)\n",
        "\n",
        "    # Define and print matricies\n",
        "    print(\"\\n\\033[1mComputed values:\\033[0m\")\n",
        "    #z\n",
        "    z_matrix = [[sym.N(1/g_11,2), sym.N(-g_12/g_11,2)], [sym.N(g_21/g_11,2), sym.N(g_delta/g_11,2)]]\n",
        "    print(\"z=\")\n",
        "    disp.display(sym.Matrix(z_matrix))\n",
        "    #y\n",
        "    y_matrix = [[sym.N(g_delta/g_22,2), sym.N(g_12/g_22,2)], [sym.N(-g_21/g_22,2), sym.N(1/g_22,2)]]\n",
        "    print(\"\\ny=\")\n",
        "    disp.display(sym.Matrix(y_matrix))\n",
        "    #h\n",
        "    h_matrix = [[sym.N(g_22/g_delta,2), sym.N(g_12/g_delta,2)], [sym.N(g_21/g_delta,2), sym.N(g_11/g_delta,2)]]\n",
        "    print(\"\\nh=\")\n",
        "    disp.display(sym.Matrix(h_matrix))\n",
        "    #g\n",
        "    g_matrix = [[sym.N(g_11,2), sym.N(g_12,2)], [sym.N(g_21,2), sym.N(g_22,2)]]\n",
        "    print(\"\\ng=\")\n",
        "    disp.display(sym.Matrix(g_matrix))\n",
        "    #a\n",
        "    a_matrix = [[sym.N(1/g_21,2), sym.N(g_22/g_21,2)], [sym.N(g_11/g_21,2), sym.N(g_delta/g_21,2)]]\n",
        "    print(\"\\na=\")\n",
        "    disp.display(sym.Matrix(a_matrix))\n",
        "    #b\n",
        "    b_matrix = [[sym.N(-g_delta/g_12,2), sym.N(-g_22/g_12,2)], [sym.N(-g_11/g_12,2), sym.N(-1/g_12,2)]]\n",
        "    print(\"\\nb=\")\n",
        "    disp.display(sym.Matrix(b_matrix))\n",
        "  if function_text == \"a\":\n",
        "    a_11 = sym.sympify(val11)\n",
        "    a_12 = sym.sympify(val12)\n",
        "    a_21 = sym.sympify(val21)\n",
        "    a_22 = sym.sympify(val22)\n",
        "\n",
        "    # Calculate delta value\n",
        "    a_delta = (a_11 * a_22) - (a_12 * a_21)\n",
        "\n",
        "    # Define and print matricies\n",
        "    print(\"\\n\\033[1mComputed values:\\033[0m\")\n",
        "    #z\n",
        "    z_matrix = [[sym.N(a_11/a_21,2), sym.N(a_delta/a_21,2)], [sym.N(1/a_21,2), sym.N(a_22/a_21,2)]]\n",
        "    print(\"z=\")\n",
        "    disp.display(sym.Matrix(z_matrix))\n",
        "    #y\n",
        "    y_matrix = [[sym.N(a_22/a_12,2), sym.N(-a_delta/a_12,2)], [sym.N(-1/a_12,2), sym.N(a_11/a_12,2)]]\n",
        "    print(\"\\ny=\")\n",
        "    disp.display(sym.Matrix(y_matrix))\n",
        "    #h\n",
        "    h_matrix = [[sym.N(a_12/a_22,2), sym.N(a_delta/a_22,2)], [sym.N(-1/a_22,2), sym.N(a_21/a_22,2)]]\n",
        "    print(\"\\nh=\")\n",
        "    disp.display(sym.Matrix(h_matrix))\n",
        "    #g\n",
        "    g_matrix = [[sym.N(a_21/a_11,2), sym.N(-a_delta/a_11,2)], [sym.N(1/a_11,2), sym.N(a_12/a_11,2)]]\n",
        "    print(\"\\ng=\")\n",
        "    disp.display(sym.Matrix(g_matrix))\n",
        "    #a\n",
        "    a_matrix = [[sym.N(a_11,2), sym.N(a_12,2)], [sym.N(a_21,2), sym.N(a_22,2)]]\n",
        "    print(\"\\na=\")\n",
        "    disp.display(sym.Matrix(a_matrix))\n",
        "    #b\n",
        "    b_matrix = [[sym.N(a_22/a_delta,2), sym.N(a_12/a_delta,2)], [sym.N(a_21/a_delta,2), sym.N(a_11/a_delta,2)]]\n",
        "    print(\"\\nb=\")\n",
        "    disp.display(sym.Matrix(b_matrix))\n",
        "  if function_text == \"b\":\n",
        "    b_11 = sym.sympify(val11)\n",
        "    b_12 = sym.sympify(val12)\n",
        "    b_21 = sym.sympify(val21)\n",
        "    b_22 = sym.sympify(val22)\n",
        "\n",
        "    # Calculate delta value\n",
        "    b_delta = (b_11 * b_22) - (b_12 * b_21)\n",
        "\n",
        "    # Define and print matricies\n",
        "    print(\"\\n\\033[1mComputed values:\\033[0m\")\n",
        "    #z\n",
        "    z_matrix = [[sym.N(b_22/b_21,2), sym.N(1/b_21,2)], [sym.N(b_delta/b_21,2), sym.N(b_11/b_21,2)]]\n",
        "    print(\"z=\")\n",
        "    disp.display(sym.Matrix(z_matrix))\n",
        "    #y\n",
        "    y_matrix = [[sym.N(b_11/b_12,2), sym.N(-1/b_12,2)], [sym.N(-b_delta/b_12,2), sym.N(b_22/b_12,2)]]\n",
        "    print(\"\\ny=\")\n",
        "    disp.display(sym.Matrix(y_matrix))\n",
        "    #h\n",
        "    h_matrix = [[sym.N(b_12/b_11,2), sym.N(1/b_11,2)], [sym.N(-b_delta/b_11,2), sym.N(b_21/b_11,2)]]\n",
        "    print(\"\\nh=\")\n",
        "    disp.display(sym.Matrix(h_matrix))\n",
        "    #g\n",
        "    g_matrix = [[sym.N(b_21/b_22,2), sym.N(-1/b_22,2)], [sym.N(b_delta/b_22,2), sym.N(b_12/b_22,2)]]\n",
        "    print(\"\\ng=\")\n",
        "    disp.display(sym.Matrix(g_matrix))\n",
        "    #a\n",
        "    a_matrix = [[sym.N(b_22/b_delta,2), sym.N(b_12/b_delta,2)], [sym.N(b_21/b_delta,2), sym.N(b_11/b_delta,2)]]\n",
        "    print(\"\\na=\")\n",
        "    disp.display(sym.Matrix(a_matrix))\n",
        "    #b\n",
        "    b_matrix = [[sym.N(b_11,2), sym.N(b_12,2)], [sym.N(b_21,2), sym.N(b_22,2)]]\n",
        "    print(\"\\nb=\")\n",
        "    disp.display(sym.Matrix(b_matrix))\n",
        "\n",
        "  print(\"\\n\\n\\n\")\n",
        "  return parameter\n",
        "\n",
        "def ui_call():\n",
        "  print(\"\\033[1mWhich set of parameters are you inputting?\\033[0m\")\n",
        "\n",
        "  # Define the options for the dropdown\n",
        "  options = [('Z', \"z\"), ('Y', \"y\"), ('g', \"g\"), ('h', \"h\"), ('a', \"a\"), ('b', \"b\")]\n",
        "\n",
        "  # Create the dropdown widget\n",
        "  dropdown = widgets.Dropdown(options=options)\n",
        "\n",
        "  # Define a function to handle the user's selection\n",
        "  def handle_selection(change):\n",
        "      user_selection = change.new\n",
        "      # Continue with your code based on the selected option\n",
        "\n",
        "  # Attach the function to the dropdown's value change event\n",
        "  dropdown.observe(handle_selection, names='value')\n",
        "\n",
        "  # Create a 4x4 grid of text input widgets\n",
        "  rows, cols = 2, 2\n",
        "  text_inputs = [[widgets.Text(description=f\"{i+1}{j+1}\") for j in range(cols)] for i in range(rows)]\n",
        "\n",
        "  # Create a VBox to organize the widgets vertically\n",
        "  vbox = widgets.VBox([widgets.HBox(row) for row in text_inputs])\n",
        "\n",
        "  # Create buttons for the user to confirm their selection\n",
        "  calculate_button = widgets.Button(description=\"Calculate\")\n",
        "  stop_button = widgets.Button(description=\"Stop\")\n",
        "  output = widgets.Output()\n",
        "\n",
        "  def on_calculate_button_click(b):\n",
        "      with output:\n",
        "          # Add your code logic for calculation here\n",
        "          parameter(dropdown.value,text_inputs[0][0].value,text_inputs[0][1].value,text_inputs[1][0].value,text_inputs[1][1].value)\n",
        "\n",
        "  def on_stop_button_click(b):\n",
        "      with output:\n",
        "          # Add your code logic for stopping here\n",
        "          print(\"End of runtime...\")\n",
        "\n",
        "  # Attach the button click events\n",
        "  calculate_button.on_click(on_calculate_button_click)\n",
        "  stop_button.on_click(on_stop_button_click)\n",
        "\n",
        "  # Display the widgets\n",
        "  display(dropdown, vbox, widgets.HBox([calculate_button, stop_button]), output)\n",
        "\n",
        "\n",
        "# Check if the 'riskacknowledgement' variable exists\n",
        "if 'riskacknowledgement' in locals():\n",
        "    # The variable exists\n",
        "    if riskacknowledgement == True:\n",
        "        ##\n",
        "        ## UI\n",
        "        print(\"All entries must adhere to programming mathematical convention, ex. 5*s' not '5s'. Press enter to exit.\\n\\n\")\n",
        "        ui_call()\n",
        "        ##\n",
        "    else:\n",
        "        # Exit the block without terminating the runtime\n",
        "        print(\"\\033[1mPlease acknowledge risk before continuing.\\033[0m\")\n",
        "        print(\"\\nEnd of runtime...\")\n",
        "else:\n",
        "    # The variable does not exist\n",
        "    print(\"\\033[1mPlease acknowledge risk before continuing.\\033[0m\")\n",
        "    print(\"\\nEnd of runtime...\")"
      ],
      "metadata": {
        "id": "57LwGgTmzOjY",
        "outputId": "3794590d-204d-4741-8aa6-53fcafb9e4a5",
        "colab": {
          "base_uri": "https://localhost:8080/",
          "height": 1000,
          "referenced_widgets": [
            "0a84f0bd66c84723893ab66e3340bbca",
            "22e1060afc714617a69036cfabf78f08",
            "1af7fa942eaa4eff935230ee08b00e78",
            "76c801b8e4eb4bbeaab39823f6cf90f9",
            "5145c28d5e8a48bba3c8762fab7fa94d",
            "20e01ed3735a4f1490ab1fd8aee266e9",
            "ceb3ed7c448a452e837532d91ee49508",
            "648291cfc366472bb8cbd688252fefd3",
            "9d0d77aa43254fad84022aa3ffbe2589",
            "db29689987b542b3a91aa1d475421ba3",
            "e7ecf5748bfe46d199015b5ed092271e",
            "eb258c54fbf84d1589af979497c1374d",
            "fbab435d54d34ba4a322169e5933e85a",
            "fcccc21c227d45a394b55c93903520fb",
            "5377fa898e454453b7c9fd88539ca0bb",
            "206e979fea23418089edf622479f00cf",
            "312c490e5fd2438c973402b3b7ef0ce9",
            "87601a3a23d6479b842b8d65b48f01c8",
            "64972564b22341b9839553a7e69e6a3c",
            "863a76cbd9484508844b205896d77f2b",
            "93d1b3255d084f06afe1c49080b6dac2",
            "04c40488adc64ca5a960a1a26b8ceb66",
            "d62d9be6b74342749eb36c67187fd30f",
            "91d06044d07c43ae9cfec021fca1f85e",
            "2a730217ab16499dbc588c9282a827d6",
            "02cc929707b24c55b9346d4df33db5e7",
            "e30199e281fd4c0fbde7b4b6be3739a0",
            "d0922276db4a4767bed3f70c10862b1d",
            "ece03aa51997410eb8e9e2725d1bc378",
            "38742ebaeab84c7183ae2b333d51c97f",
            "bfb9143732b5499894a9e33071fae900"
          ]
        }
      },
      "execution_count": null,
      "outputs": [
        {
          "output_type": "display_data",
          "data": {
            "text/plain": [
              "<IPython.core.display.HTML object>"
            ],
            "text/html": [
              "<script src='https://www.gstatic.com/external_hosted/mathjax/latest/MathJax.js?config=default'></script>"
            ]
          },
          "metadata": {}
        },
        {
          "output_type": "stream",
          "name": "stdout",
          "text": [
            "All entries must adhere to programming mathematical convention, ex. 5*s' not '5s'. Press enter to exit.\n",
            "\n",
            "\n",
            "\u001b[1mWhich set of parameters are you inputting?\u001b[0m\n"
          ]
        },
        {
          "output_type": "display_data",
          "data": {
            "text/plain": [
              "Dropdown(options=(('Z', 'z'), ('Y', 'y'), ('g', 'g'), ('h', 'h'), ('a', 'a'), ('b', 'b')), value='z')"
            ],
            "application/vnd.jupyter.widget-view+json": {
              "version_major": 2,
              "version_minor": 0,
              "model_id": "0a84f0bd66c84723893ab66e3340bbca"
            }
          },
          "metadata": {}
        },
        {
          "output_type": "display_data",
          "data": {
            "text/plain": [
              "VBox(children=(HBox(children=(Text(value='', description='11'), Text(value='', description='12'))), HBox(child…"
            ],
            "application/vnd.jupyter.widget-view+json": {
              "version_major": 2,
              "version_minor": 0,
              "model_id": "76c801b8e4eb4bbeaab39823f6cf90f9"
            }
          },
          "metadata": {}
        },
        {
          "output_type": "display_data",
          "data": {
            "text/plain": [
              "HBox(children=(Button(description='Calculate', style=ButtonStyle()), Button(description='Stop', style=ButtonSt…"
            ],
            "application/vnd.jupyter.widget-view+json": {
              "version_major": 2,
              "version_minor": 0,
              "model_id": "04c40488adc64ca5a960a1a26b8ceb66"
            }
          },
          "metadata": {}
        },
        {
          "output_type": "display_data",
          "data": {
            "text/plain": [
              "Output()"
            ],
            "application/vnd.jupyter.widget-view+json": {
              "version_major": 2,
              "version_minor": 0,
              "model_id": "38742ebaeab84c7183ae2b333d51c97f"
            }
          },
          "metadata": {}
        }
      ]
    },
    {
      "cell_type": "markdown",
      "source": [
        "\n",
        "\n",
        "---\n",
        "\n"
      ],
      "metadata": {
        "id": "6yU0OP-VH-Jn"
      }
    },
    {
      "cell_type": "code",
      "source": [
        "#@title Two Port Circuit Calculator\n",
        "print(\">> In Progress <<\")\n",
        "\n",
        "def circuit():\n",
        "  widgets.IntSlider()\n",
        "\n",
        "circuit()\n",
        "\n",
        "## UI\n",
        "#print(\"All entries must adhere to programming mathematical convention, ex. 5*s' not '5s'. Press enter to exit.\\n\\n\")\n",
        "#circuit_ans = \"\"\n",
        "#while True:\n",
        "#  if circuit_ans == \"exit\":\n",
        "#    print(\"\\nEnd of runtime...\")\n",
        "#    break\n",
        "#circuit_ans = circuit()"
      ],
      "metadata": {
        "colab": {
          "base_uri": "https://localhost:8080/",
          "height": 35
        },
        "id": "Qg_aTn-FzwgJ",
        "outputId": "81152a1d-4310-4d23-e7a3-8fa4d231ed5a",
        "cellView": "form"
      },
      "execution_count": null,
      "outputs": [
        {
          "output_type": "stream",
          "name": "stdout",
          "text": [
            ">> In Progress <<\n"
          ]
        }
      ]
    },
    {
      "cell_type": "code",
      "source": [
        "#@title System of Equations Calculator\n",
        "\n",
        "print(\">> In Progress <<\")\n",
        "sym.init_printing()\n",
        "x,y,z = sym.symbols('x,y,z')\n",
        "c1 = sym.Symbol('c1')\n",
        "f = sym.Eq(2*x**2+y+z,1)\n",
        "g = sym.Eq(x+2*y+z,c1)\n",
        "h = sym.Eq(-2*x+y,-z)\n",
        "\n",
        "sym.solve([f,g,h],(x,y,z))\n",
        "\n",
        "def system():\n",
        "  eqn_array = []\n",
        "  var_array = []\n",
        "  while True:\n",
        "    print(\"\\033[1mInput an equation from the system, ex. 'x+1=0'.\\033[0m\")\n",
        "    eqn_input = input()\n",
        "    eqn_input = eqn_input.lower()\n",
        "    if eqn_input == \"\":\n",
        "      break\n",
        "    else:\n",
        "      eqn_array.append(eqn_input)\n",
        "  while True:\n",
        "    print(\"\\033[1mInput a variable from the system, ex. 'x'.\\033[0m\")\n",
        "    var_input = input()\n",
        "    var_input = var_input.lower()\n",
        "    if var_input == \"\":\n",
        "      break\n",
        "    else:\n",
        "      var_array.append(var_input)\n",
        "  print(eqn_array)\n",
        "  print(var_array)\n",
        "  return \"\"\n",
        "\n",
        "# Check if the 'riskacknowledgement' variable exists\n",
        "if 'riskacknowledgement' in locals():\n",
        "    # The variable exists\n",
        "    if riskacknowledgement == True:\n",
        "        ##\n",
        "        ## UI\n",
        "        print(\"All entries must adhere to programming mathematical convention, ex. '5*s' not '5s'.\\n Keep in mind all inputs will be turned to lowercase. Press enter to exit.\\n\\n\")\n",
        "        system_ans = \"\"\n",
        "        while True:\n",
        "          if system_ans == \"exit\":\n",
        "            print(\"\\nEnd of runtime...\")\n",
        "            break\n",
        "          system_ans = system()\n",
        "          ##\n",
        "    else:\n",
        "        # Exit the block without terminating the runtime\n",
        "        print(\"\\033[1mPlease acknowledge risk before continuing.\\033[0m\")\n",
        "        print(\"\\nEnd of runtime...\")\n",
        "else:\n",
        "    # The variable does not exist\n",
        "    print(\"\\033[1mPlease acknowledge risk before continuing.\\033[0m\")\n",
        "    print(\"\\nEnd of runtime...\")\n",
        "\n",
        "# Steps <3\n",
        "# Query user for equations, symbols to solve for, and symbols to not (constants).\n",
        "# Use a while True loop for query, and break from loop upon empty entry.\n",
        "# Use a regex expression to separate either side of the '=' into separate pieces of an array.\n",
        "# Pass those to a sym.Eq function, define said functions.\n",
        "# Pass functions and symbols to solve for to the sym.solve.\n",
        "# Pray it works\n",
        "# Phrase the above solving and definition of eq as a try.\n",
        "# That way mutliple attempts can be made using different methods\n",
        "# Return error messages explaining the input issue, ex. not enough equations for number of solving symbols.\n",
        "# Repeat? In the case of the repeat break, a blank input should only break in the initial call.\n",
        "# Solutions should always print in LaTeX format, preferably regular expression form (non-matrix)\n",
        "# Repeat with fsolve? and other approximation techniques???\n",
        "\n",
        "# https://reliability.readthedocs.io/en/latest/Solving%20simultaneous%20equations%20with%20sympy.html"
      ],
      "metadata": {
        "id": "yGX8xhRbl9sm",
        "colab": {
          "base_uri": "https://localhost:8080/"
        },
        "outputId": "92cb48f2-4a36-42f0-9bf2-75a544f58574",
        "cellView": "form"
      },
      "execution_count": null,
      "outputs": [
        {
          "output_type": "stream",
          "name": "stdout",
          "text": [
            ">> In Progress <<\n",
            "\u001b[1mPlease acknowledge risk before continuing.\u001b[0m\n",
            "\n",
            "End of runtime...\n"
          ]
        }
      ]
    },
    {
      "cell_type": "markdown",
      "source": [
        "\n",
        "\n",
        "---\n",
        "\n"
      ],
      "metadata": {
        "id": "RVcuLwPBIGaj"
      }
    },
    {
      "cell_type": "code",
      "source": [
        "#@title Filter Characterization Graph\n",
        "\n",
        "s = sym.symbols('s')\n",
        "t = sym.symbols('t')\n",
        "w = sym.symbols('w')\n",
        "\n",
        "## Functions\n",
        "def filter_char():\n",
        "    print(\"\\033[1mInsert the filter's transfer function in terms of 's': \\033[0m\")\n",
        "    function_text = input()\n",
        "\n",
        "    if function_text == \"\":\n",
        "        return \"exit\"\n",
        "\n",
        "    display_function = sym.sympify(function_text)\n",
        "    print(\"\\n\\033[1mYour Input:\\033[0m\")\n",
        "    disp.display_latex(display_function)\n",
        "    print(\"\\n\")\n",
        "\n",
        "    symfy_function = sym.sympify(function_text.lower()).subs('s', '1j*w')\n",
        "\n",
        "    # Convert to complex numbers\n",
        "    transfer_function = sym.lambdify('w', symfy_function, modules=['numpy'])\n",
        "\n",
        "    # Symbolic expressions for magnitude and phase\n",
        "    w = sym.symbols('w')\n",
        "    magnitude_sym = sym.Abs(symfy_function)\n",
        "    phase_sym = sym.arg(symfy_function)\n",
        "\n",
        "    print(\"\\n\\033[1mWhat is the lower bound of the frequency domain your searching? (rad/s) \\033[0m\")\n",
        "    lower_lim = float(input())\n",
        "    if lower_lim == \"\":\n",
        "        return \"exit\"\n",
        "    elif lower_lim <= 0:\n",
        "      lower_lim = 1\n",
        "    print(\"\\n\\033[1mWhat is the upper bound of the frequency domain your searching? (rad/s) \\033[0m\")\n",
        "    upper_lim = float(input())\n",
        "    if upper_lim == \"\":\n",
        "        return \"exit\"\n",
        "\n",
        "    # Generate frequency values\n",
        "    frequencies = np.linspace(lower_lim, upper_lim, int((upper_lim-lower_lim)/5))\n",
        "\n",
        "    # Calculate magnitude and phase values\n",
        "    magnitude_values = 20 * np.log10(np.abs(transfer_function(frequencies)))\n",
        "    phase_values = np.angle(transfer_function(frequencies), deg=True)\n",
        "\n",
        "    # Plot magnitude and phase\n",
        "    plt.figure(figsize=(12, 4))\n",
        "\n",
        "    # Magnitude plot\n",
        "    plt.subplot(1, 2, 1)\n",
        "    plt.semilogx(frequencies, magnitude_values)\n",
        "    plt.title('Magnitude Plot (dB)')\n",
        "    plt.xlabel('Frequency (rad/s)')\n",
        "    plt.ylabel('Magnitude (dB)')\n",
        "    plt.grid(True)\n",
        "    plt.axhline(y=-3, color='blue', linestyle='--')\n",
        "\n",
        "    # Find the indices where the magnitude crosses -3 dB\n",
        "    indices = np.where(np.diff(np.sign(magnitude_values + 3)))[0]\n",
        "\n",
        "    # Store intersection frequencies\n",
        "    intersection_frequencies = [frequencies[index] for index in indices]\n",
        "\n",
        "    # Add vertical lines at all intersection frequencies and label the legend\n",
        "    for index, frequency in zip(indices, intersection_frequencies):\n",
        "        plt.axvline(x=frequencies[index], color='red', linestyle='--', label=f'~Cutoff at {frequency:.2f} rad/s')\n",
        "\n",
        "    plt.legend()\n",
        "\n",
        "    # Phase plot\n",
        "    plt.subplot(1, 2, 2)\n",
        "    plt.semilogx(frequencies, phase_values)\n",
        "    plt.title('Phase Plot (degrees)')\n",
        "    plt.xlabel('Frequency (rad/s)')\n",
        "    plt.ylabel('Phase (degrees)')\n",
        "    plt.grid(True)\n",
        "\n",
        "    plt.tight_layout()\n",
        "    plt.show()\n",
        "\n",
        "    print(\"\\n\\n\\n\")\n",
        "\n",
        "    return filter_char\n",
        "\n",
        "# Check if the 'riskacknowledgement' variable exists\n",
        "if 'riskacknowledgement' in locals():\n",
        "    # The variable exists\n",
        "    if riskacknowledgement == True:\n",
        "        ##\n",
        "        ## UI\n",
        "        print(\"Please keep in mind that cutoff frequency calculations are approximations only!\\n\")\n",
        "        print(\"All entries must adhere to programming mathematical convention, ex. 5*s' not '5s'. Press enter to exit.\\n\\n\")\n",
        "        filter_char_ans = \"\"\n",
        "        while True:\n",
        "          if filter_char_ans == \"exit\":\n",
        "            print(\"\\nEnd of runtime...\")\n",
        "            break\n",
        "          filter_char_ans = filter_char()\n",
        "          ##\n",
        "    else:\n",
        "        # Exit the block without terminating the runtime\n",
        "        print(\"\\033[1mPlease acknowledge risk before continuing.\\033[0m\")\n",
        "        print(\"\\nEnd of runtime...\")\n",
        "else:\n",
        "    # The variable does not exist\n",
        "    print(\"\\033[1mPlease acknowledge risk before continuing.\\033[0m\")\n",
        "    print(\"\\nEnd of runtime...\")"
      ],
      "metadata": {
        "id": "RbjRw3NqIAxZ",
        "colab": {
          "base_uri": "https://localhost:8080/",
          "height": 302,
          "referenced_widgets": [
            "b5c86ac1fb2d4987a5fd083fb39ffed5"
          ]
        },
        "outputId": "16e280e5-fb38-4808-f897-0c06ab3d859b",
        "cellView": "form"
      },
      "execution_count": null,
      "outputs": [
        {
          "data": {
            "text/html": [
              "<script src='https://www.gstatic.com/external_hosted/mathjax/latest/MathJax.js?config=default'></script>"
            ],
            "text/plain": [
              "<IPython.core.display.HTML object>"
            ]
          },
          "metadata": {},
          "output_type": "display_data"
        },
        {
          "metadata": {
            "tags": null
          },
          "name": "stdout",
          "output_type": "stream",
          "text": [
            "Please keep in mind that cutoff frequency calculations are approximations only!\n",
            "\n",
            "All entries must adhere to programming mathematical convention, ex. 5*s' not '5s'. Press enter to exit.\n",
            "\n",
            "\n"
          ]
        },
        {
          "data": {
            "application/vnd.jupyter.widget-view+json": {
              "model_id": "b5c86ac1fb2d4987a5fd083fb39ffed5",
              "version_major": 2,
              "version_minor": 0
            },
            "text/plain": [
              "Dropdown(options=(('Z', 'z'), ('Y', 'y'), ('g', 'g'), ('h', 'h'), ('a', 'a'), ('b', 'b')), value='z')"
            ]
          },
          "metadata": {},
          "output_type": "display_data"
        },
        {
          "metadata": {
            "tags": null
          },
          "name": "stdout",
          "output_type": "stream",
          "text": [
            "\u001b[1mInsert the filter's transfer function in terms of 's': \u001b[0m\n",
            "\n",
            "\u001b[1mYour Input:\u001b[0m\n"
          ]
        },
        {
          "data": {
            "text/latex": "$\\displaystyle \\frac{s}{s + 1000}$"
          },
          "metadata": {},
          "output_type": "display_data"
        },
        {
          "metadata": {
            "tags": null
          },
          "name": "stdout",
          "output_type": "stream",
          "text": [
            "\n",
            "\n",
            "\n",
            "\u001b[1mWhat is the lower bound of the frequency domain your searching? (rad/s) \u001b[0m\n"
          ]
        }
      ]
    },
    {
      "cell_type": "markdown",
      "source": [
        "*Made by Kiva M. ♡*"
      ],
      "metadata": {
        "id": "rWKypAyNf75h"
      }
    }
  ]
}