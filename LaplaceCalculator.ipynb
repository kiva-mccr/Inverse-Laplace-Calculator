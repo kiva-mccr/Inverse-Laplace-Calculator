{
  "nbformat": 4,
  "nbformat_minor": 0,
  "metadata": {
    "colab": {
      "provenance": [],
      "authorship_tag": "ABX9TyM9vQRZdWw9P5Jcpg1capVR",
      "include_colab_link": true
    },
    "kernelspec": {
      "name": "python3",
      "display_name": "Python 3"
    },
    "language_info": {
      "name": "python"
    }
  },
  "cells": [
    {
      "cell_type": "markdown",
      "metadata": {
        "id": "view-in-github",
        "colab_type": "text"
      },
      "source": [
        "<a href=\"https://colab.research.google.com/github/kiva-mccr/Inverse-Laplace-Calculator/blob/main/LaplaceCalculator.ipynb\" target=\"_parent\"><img src=\"https://colab.research.google.com/assets/colab-badge.svg\" alt=\"Open In Colab\"/></a>"
      ]
    },
    {
      "cell_type": "markdown",
      "source": [
        "# Inverse Laplace Calculator"
      ],
      "metadata": {
        "id": "RjydTWXZL4te"
      }
    },
    {
      "cell_type": "code",
      "execution_count": null,
      "metadata": {
        "colab": {
          "base_uri": "https://localhost:8080/"
        },
        "id": "L3OOmR5643BJ",
        "outputId": "ef52e577-140f-4fdf-9aba-23a5ce0f0e69"
      },
      "outputs": [
        {
          "output_type": "stream",
          "name": "stdout",
          "text": [
            "\u001b[1mInsert a Laplace function in terms of 's': \u001b[0m\n"
          ]
        }
      ],
      "source": [
        "import sympy as sym\n",
        "from sympy.abc import s,t,x,y,z\n",
        "from sympy.integrals import inverse_laplace_transform\n",
        "import numpy as np\n",
        "import matplotlib.pyplot as plt\n",
        "\n",
        "import IPython.display as disp\n",
        "\n",
        "while True:\n",
        "  print(\"\\033[1mInsert a Laplace function in terms of 's': \\033[0m\")\n",
        "  function_text = input()\n",
        "  function_text = function_text.lower()\n",
        "  function_text = function_text.replace(')(', ')*(')\n",
        "\n",
        "\n",
        "  function = sym.sympify(function_text)\n",
        "  symfy_function = sym.sympify(function)\n",
        "  symfy_function = sym.N(symfy_function, 2)\n",
        "\n",
        "  print(\"\\n\\033[1mYour Input:\\033[0m\")\n",
        "  #sym.pprint(symfy_function, use_unicode=True)\n",
        "  disp.display_latex(symfy_function)\n",
        "\n",
        "  invlap_function = sym.inverse_laplace_transform(symfy_function, s, t)\n",
        "  invlap_function = invlap_function.subs(sym.Heaviside(t),'u(t)')\n",
        "\n",
        "  # Format output with digits rounded to two decimal places and display exponent\n",
        "  invlap_function = sym.N(invlap_function, 2)\n",
        "  print(\"\\n\\033[1mYour Output:\\033[0m\")  # This line will make the output bold\n",
        "  #sym.pprint(invlap_function, use_unicode=True)\n",
        "  disp.display_latex(invlap_function)\n",
        "  print(\"\\n\\n\\n\")\n"
      ]
    }
  ]
}