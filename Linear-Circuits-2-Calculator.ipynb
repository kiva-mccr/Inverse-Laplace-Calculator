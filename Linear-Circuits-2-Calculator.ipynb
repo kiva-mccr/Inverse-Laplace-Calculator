{
  "nbformat": 4,
  "nbformat_minor": 0,
  "metadata": {
    "colab": {
      "provenance": [],
      "authorship_tag": "ABX9TyPhWfzvmgM4HeG9Sh7zsKnC",
      "include_colab_link": true
    },
    "kernelspec": {
      "name": "python3",
      "display_name": "Python 3"
    },
    "language_info": {
      "name": "python"
    }
  },
  "cells": [
    {
      "cell_type": "markdown",
      "metadata": {
        "id": "view-in-github",
        "colab_type": "text"
      },
      "source": [
        "<a href=\"https://colab.research.google.com/github/kiva-mccr/Linear-Circuits-2-Calculator/blob/main/Linear-Circuits-2-Calculator.ipynb\" target=\"_parent\"><img src=\"https://colab.research.google.com/assets/colab-badge.svg\" alt=\"Open In Colab\"/></a>"
      ]
    },
    {
      "cell_type": "markdown",
      "source": [
        "#Use at your own risk!"
      ],
      "metadata": {
        "id": "buAmJA8OfwZM"
      }
    },
    {
      "cell_type": "code",
      "execution_count": null,
      "metadata": {
        "colab": {
          "base_uri": "https://localhost:8080/",
          "height": 402
        },
        "id": "L3OOmR5643BJ",
        "outputId": "00fa24ff-07ec-4826-e8be-db31f3df7319",
        "cellView": "form"
      },
      "outputs": [
        {
          "output_type": "stream",
          "name": "stdout",
          "text": [
            "All entries must adhere to programming mathematical convention, ex. 5*s' not '5s'. Press enter to exit.\n",
            "\n",
            "\n",
            "\u001b[1mInsert a Laplace function in terms of 's': \u001b[0m\n",
            "(5*s^4+2*s^2)/(s^2+64)\n",
            "\n",
            "\u001b[1mYour Input:\u001b[0m\n"
          ]
        },
        {
          "output_type": "display_data",
          "data": {
            "text/latex": "$\\displaystyle \\frac{5.0 s^{4} + 2.0 s^{2}}{s^{2} + 64.0}$"
          },
          "metadata": {}
        },
        {
          "output_type": "stream",
          "name": "stdout",
          "text": [
            "\n",
            "\u001b[1mYour Output:\u001b[0m\n"
          ]
        },
        {
          "output_type": "display_data",
          "data": {
            "text/latex": "$\\displaystyle 2.5 \\cdot 10^{3} u{\\left(t \\right)} \\sin{\\left(8 t \\right)} - 3.1 \\cdot 10^{2} \\delta\\left(t\\right)$"
          },
          "metadata": {}
        },
        {
          "output_type": "stream",
          "name": "stdout",
          "text": [
            "\n",
            "\n",
            "\n",
            "\n",
            "\u001b[1mInsert a Laplace function in terms of 's': \u001b[0m\n",
            "\n",
            "\n",
            "End of runtime...\n"
          ]
        }
      ],
      "source": [
        "#@title Inverse Laplace Calculator\n",
        "\n",
        "import sympy as sym\n",
        "from sympy.abc import s, t\n",
        "import IPython.display as disp\n",
        "from google.colab import runtime\n",
        "\n",
        "## Functions\n",
        "def inverse_laplace():\n",
        "  print(\"\\033[1mInsert a Laplace function in terms of 's': \\033[0m\")\n",
        "  function_text = input()\n",
        "  if function_text == \"\":\n",
        "    return \"exit\"\n",
        "  function_text = function_text.lower()\n",
        "  function_text = function_text.replace(')(', ') * (')\n",
        "  function = sym.sympify(function_text)\n",
        "  symfy_function = sym.sympify(function)\n",
        "  symfy_function_display = sym.N(symfy_function, 2)\n",
        "\n",
        "  print(\"\\n\\033[1mYour Input:\\033[0m\")\n",
        "  disp.display_latex(symfy_function_display)\n",
        "\n",
        "  # Perform partial fraction decomposition\n",
        "  partial_fraction = sym.apart(symfy_function, s)  # Added this line\n",
        "\n",
        "  # Perform inverse Laplace transform\n",
        "  invlap_function = sym.inverse_laplace_transform(partial_fraction, s, t)\n",
        "  invlap_function = invlap_function.subs(sym.Heaviside(t), 'u(t)')\n",
        "\n",
        "  # Replace hyperbolic trigonometric functions with their exponential equivalents\n",
        "  invlap_function = invlap_function.rewrite(sym.sinh, sym.exp).rewrite(sym.cosh, sym.exp)\n",
        "\n",
        "  # Simplify the expression while avoiding hyperbolic trigonometric functions\n",
        "  invlap_function = sym.simplify(invlap_function)\n",
        "\n",
        "  # Expand the expression to distribute out terms\n",
        "  invlap_function = sym.expand(invlap_function)\n",
        "  ans = invlap_function\n",
        "  # Format output with digits rounded to two decimal places and display exponent\n",
        "  invlap_function = sym.N(invlap_function, 2)\n",
        "  print(\"\\n\\033[1mYour Output:\\033[0m\")  # This line will make the output bold\n",
        "  disp.display_latex(invlap_function)\n",
        "  print(\"\\n\\n\\n\")\n",
        "  return invlap_function\n",
        "\n",
        "## UI\n",
        "print(\"All entries must adhere to programming mathematical convention, ex. 5*s' not '5s'. Press enter to exit.\\n\\n\")\n",
        "inv_lap_ans = \"\"\n",
        "while True:\n",
        "  if inv_lap_ans == \"exit\":\n",
        "    print(\"\\nEnd of runtime...\")\n",
        "    break\n",
        "  inv_lap_ans = inverse_laplace()"
      ]
    },
    {
      "cell_type": "markdown",
      "source": [
        "\n",
        "\n",
        "---\n",
        "\n"
      ],
      "metadata": {
        "id": "gMLoJym0ALx-"
      }
    },
    {
      "cell_type": "code",
      "source": [
        "#@title Two-Port Parameter Calculator\n",
        "\n",
        "import sympy as sym\n",
        "from sympy.abc import s, t\n",
        "import IPython.display as disp\n",
        "from IPython.display import Math\n",
        "from google.colab import runtime\n",
        "\n",
        "## Functions\n",
        "def parameter():\n",
        "  print(\"\\033[1mWhich set of parameters are you inputting? (z, y, h, g, a, or b)\\033[0m\")\n",
        "  function_text = input()\n",
        "  function_text = function_text.lower()\n",
        "  if function_text == \"\":\n",
        "    return \"exit\"\n",
        "  if function_text == \"z\":\n",
        "    print(\"\\033[1mWhat is the value of z11?\\033[0m\")\n",
        "    z_11 = sym.sympify(input())\n",
        "    print(\"\\033[1mWhat is the value of z12?\\033[0m\")\n",
        "    z_12 = sym.sympify(input())\n",
        "    print(\"\\033[1mWhat is the value of z21?\\033[0m\")\n",
        "    z_21 = sym.sympify(input())\n",
        "    print(\"\\033[1mWhat is the value of z22?\\033[0m\")\n",
        "    z_22 = sym.sympify(input())\n",
        "\n",
        "    # Calculate delta value\n",
        "    z_delta = (z_11 * z_22) - (z_12 * z_21)\n",
        "\n",
        "    # Define and print matricies\n",
        "    print(\"\\n\\033[1mComputed values:\\033[0m\")\n",
        "    #z\n",
        "    z_matrix = [[sym.N(z_11,2), sym.N(z_12,2)], [sym.N(z_21,2), sym.N(z_22,2)]]\n",
        "    print(\"z=\")\n",
        "    disp.display(sym.Matrix(z_matrix))\n",
        "    #y\n",
        "    y_matrix = [[sym.N(sym.sympify(z_22/z_delta),2), sym.N(sym.sympify(-z_12/z_delta),2)], [sym.N(sym.sympify(-z_21/z_delta),2), sym.N(sym.sympify(z_11/z_delta),2)]]\n",
        "    print(\"\\ny=\")\n",
        "    disp.display(sym.Matrix(y_matrix))\n",
        "    #h\n",
        "    h_matrix = [[sym.N(z_delta/z_22,2), sym.N(z_12/z_22,2)], [sym.N(-z_21/z_22,2), sym.N(1/z_22,2)]]\n",
        "    print(\"\\nh=\")\n",
        "    disp.display(sym.Matrix(h_matrix))\n",
        "    #g\n",
        "    g_matrix = [[sym.N(1/z_11,2), sym.N(-z_12/z_11,2)], [sym.N(z_21/z_11,2), sym.N(z_delta/z_11,2)]]\n",
        "    print(\"\\ng=\")\n",
        "    disp.display(sym.Matrix(g_matrix))\n",
        "    #a\n",
        "    a_matrix = [[sym.N(z_11/z_21,2), sym.N(z_delta/z_21,2)], [sym.N(1/z_21,2), sym.N(z_22/z_21,2)]]\n",
        "    print(\"\\na=\")\n",
        "    disp.display(sym.Matrix(a_matrix))\n",
        "    #b\n",
        "    b_matrix = [[sym.N(z_22/z_12,2), sym.N(z_delta/z_12,2)], [sym.N(1/z_12,2), sym.N(z_11/z_12,2)]]\n",
        "    print(\"\\nb=\")\n",
        "    disp.display(sym.Matrix(b_matrix))\n",
        "  if function_text == \"y\":\n",
        "    print(\"\\033[1mWhat is the value of y11?\\033[0m\")\n",
        "    y_11 = sym.sympify(input())\n",
        "    print(\"\\033[1mWhat is the value of y12?\\033[0m\")\n",
        "    y_12 = sym.sympify(input())\n",
        "    print(\"\\033[1mWhat is the value of y21?\\033[0m\")\n",
        "    y_21 = sym.sympify(input())\n",
        "    print(\"\\033[1mWhat is the value of y22?\\033[0m\")\n",
        "    y_22 = sym.sympify(input())\n",
        "\n",
        "    # Calculate delta value\n",
        "    y_delta = (y_11 * y_22) - (y_12 * y_21)\n",
        "\n",
        "    # Define and print matricies\n",
        "    print(\"\\n\\033[1mComputed values:\\033[0m\")\n",
        "    #z\n",
        "    z_matrix = [[sym.N(y_22/y_delta,2), sym.N(-y_12/y_delta,2)], [sym.N(-y_21/y_delta,2), sym.N(y_11/y_delta,2)]]\n",
        "    print(\"z=\")\n",
        "    disp.display(sym.Matrix(z_matrix))\n",
        "    #y\n",
        "    y_matrix = [[sym.N(sym.sympify(y_11),2), sym.N(sym.sympify(y_12),2)], [sym.N(sym.sympify(y_21),2), sym.N(sym.sympify(y_22),2)]]\n",
        "    print(\"\\ny=\")\n",
        "    disp.display(sym.Matrix(y_matrix))\n",
        "    #h\n",
        "    h_matrix = [[sym.N(1/y_11,2), sym.N(-y_12/y_11,2)], [sym.N(y_21/y_11,2), sym.N(y_delta/y_11,2)]]\n",
        "    print(\"\\nh=\")\n",
        "    disp.display(sym.Matrix(h_matrix))\n",
        "    #g\n",
        "    g_matrix = [[sym.N(y_delta/y_22,2), sym.N(y_12/y_22,2)], [sym.N(-y_21/y_22,2), sym.N(1/y_22,2)]]\n",
        "    print(\"\\ng=\")\n",
        "    disp.display(sym.Matrix(g_matrix))\n",
        "    #a\n",
        "    a_matrix = [[sym.N(-y_22/y_21,2), sym.N(-1/y_21,2)], [sym.N(-y_delta/y_21,2), sym.N(-y_11/y_21,2)]]\n",
        "    print(\"\\na=\")\n",
        "    disp.display(sym.Matrix(a_matrix))\n",
        "    #b\n",
        "    b_matrix = [[sym.N(-y_11/y_12,2), sym.N(-1/y_12,2)], [sym.N(-y_delta/y_12,2), sym.N(y_22/y_12,2)]]\n",
        "    print(\"\\nb=\")\n",
        "    disp.display(sym.Matrix(b_matrix))\n",
        "  if function_text == \"h\":\n",
        "    print(\"\\033[1mWhat is the value of h11?\\033[0m\")\n",
        "    h_11 = sym.sympify(input())\n",
        "    print(\"\\033[1mWhat is the value of h12?\\033[0m\")\n",
        "    h_12 = sym.sympify(input())\n",
        "    print(\"\\033[1mWhat is the value of h21?\\033[0m\")\n",
        "    h_21 = sym.sympify(input())\n",
        "    print(\"\\033[1mWhat is the value of h22?\\033[0m\")\n",
        "    h_22 = sym.sympify(input())\n",
        "\n",
        "    # Calculate delta value\n",
        "    h_delta = (h_11 * h_22) - (h_12 * h_21)\n",
        "\n",
        "    # Define and print matricies\n",
        "    print(\"\\n\\033[1mComputed values:\\033[0m\")\n",
        "    #z\n",
        "    z_matrix = [[sym.N(h_delta/h_22,2), sym.N(h_12/h_22,2)], [sym.N(-h_21/h_22,2), sym.N(1/h_22,2)]]\n",
        "    print(\"z=\")\n",
        "    disp.display(sym.Matrix(z_matrix))\n",
        "    #y\n",
        "    y_matrix = [[sym.N(1/h_11,2), sym.N(-h_12/h_11,2)], [sym.N(h_21/h_11,2), sym.N(h_delta/h_11,2)]]\n",
        "    print(\"\\ny=\")\n",
        "    disp.display(sym.Matrix(y_matrix))\n",
        "    #h\n",
        "    h_matrix = [[sym.N(h_11,2), sym.N(h_12,2)], [sym.N(h_21,2), sym.N(h_22,2)]]\n",
        "    print(\"\\nh=\")\n",
        "    disp.display(sym.Matrix(h_matrix))\n",
        "    #g\n",
        "    g_matrix = [[sym.N(h_22/h_delta,2), sym.N(-h_12/h_delta,2)], [sym.N(-h_21/h_delta,2), sym.N(h_11/h_delta,2)]]\n",
        "    print(\"\\ng=\")\n",
        "    disp.display(sym.Matrix(g_matrix))\n",
        "    #a\n",
        "    a_matrix = [[sym.N(-h_delta/h_21,2), sym.N(-h_11/h_21,2)], [sym.N(-h_22/h_21,2), sym.N(-1/h_21,2)]]\n",
        "    print(\"\\na=\")\n",
        "    disp.display(sym.Matrix(a_matrix))\n",
        "    #b\n",
        "    b_matrix = [[sym.N(1/h_12,2), sym.N(h_11/h_12,2)], [sym.N(h_22/h_12,2), sym.N(h_delta/h_12,2)]]\n",
        "    print(\"\\nb=\")\n",
        "    disp.display(sym.Matrix(b_matrix))\n",
        "  if function_text == \"g\":\n",
        "    print(\"\\033[1mWhat is the value of g11?\\033[0m\")\n",
        "    g_11 = sym.sympify(input())\n",
        "    print(\"\\033[1mWhat is the value of g12?\\033[0m\")\n",
        "    g_12 = sym.sympify(input())\n",
        "    print(\"\\033[1mWhat is the value of g21?\\033[0m\")\n",
        "    g_21 = sym.sympify(input())\n",
        "    print(\"\\033[1mWhat is the value of g22?\\033[0m\")\n",
        "    g_22 = sym.sympify(input())\n",
        "\n",
        "    # Calculate delta value\n",
        "    g_delta = (g_11 * g_22) - (g_12 * g_21)\n",
        "\n",
        "    # Define and print matricies\n",
        "    print(\"\\n\\033[1mComputed values:\\033[0m\")\n",
        "    #z\n",
        "    z_matrix = [[sym.N(1/g_11,2), sym.N(-g_12/g_11,2)], [sym.N(g_21/g_11,2), sym.N(g_delta/g_11,2)]]\n",
        "    print(\"z=\")\n",
        "    disp.display(sym.Matrix(z_matrix))\n",
        "    #y\n",
        "    y_matrix = [[sym.N(g_delta/g_22,2), sym.N(g_12/g_22,2)], [sym.N(-g_21/g_22,2), sym.N(1/g_22,2)]]\n",
        "    print(\"\\ny=\")\n",
        "    disp.display(sym.Matrix(y_matrix))\n",
        "    #h\n",
        "    h_matrix = [[sym.N(g_22/g_delta,2), sym.N(g_12/g_delta,2)], [sym.N(g_21/g_delta,2), sym.N(g_11/g_delta,2)]]\n",
        "    print(\"\\nh=\")\n",
        "    disp.display(sym.Matrix(h_matrix))\n",
        "    #g\n",
        "    g_matrix = [[sym.N(g_11,2), sym.N(g_12,2)], [sym.N(g_21,2), sym.N(g_22,2)]]\n",
        "    print(\"\\ng=\")\n",
        "    disp.display(sym.Matrix(g_matrix))\n",
        "    #a\n",
        "    a_matrix = [[sym.N(1/g_21,2), sym.N(g_22/g_21,2)], [sym.N(g_11/g_21,2), sym.N(g_delta/g_21,2)]]\n",
        "    print(\"\\na=\")\n",
        "    disp.display(sym.Matrix(a_matrix))\n",
        "    #b\n",
        "    b_matrix = [[sym.N(-g_delta/g_12,2), sym.N(-g_22/g_12,2)], [sym.N(-g_11/g_12,2), sym.N(-1/g_12,2)]]\n",
        "    print(\"\\nb=\")\n",
        "    disp.display(sym.Matrix(b_matrix))\n",
        "  if function_text == \"a\":\n",
        "    print(\"\\033[1mWhat is the value of a11?\\033[0m\")\n",
        "    a_11 = sym.sympify(input())\n",
        "    print(\"\\033[1mWhat is the value of a12?\\033[0m\")\n",
        "    a_12 = sym.sympify(input())\n",
        "    print(\"\\033[1mWhat is the value of a21?\\033[0m\")\n",
        "    a_21 = sym.sympify(input())\n",
        "    print(\"\\033[1mWhat is the value of a22?\\033[0m\")\n",
        "    a_22 = sym.sympify(input())\n",
        "\n",
        "    # Calculate delta value\n",
        "    a_delta = (a_11 * a_22) - (a_12 * a_21)\n",
        "\n",
        "    # Define and print matricies\n",
        "    print(\"\\n\\033[1mComputed values:\\033[0m\")\n",
        "    #z\n",
        "    z_matrix = [[sym.N(a_11/a_21,2), sym.N(a_delta/a_21,2)], [sym.N(1/a_21,2), sym.N(a_22/a_21,2)]]\n",
        "    print(\"z=\")\n",
        "    disp.display(sym.Matrix(z_matrix))\n",
        "    #y\n",
        "    y_matrix = [[sym.N(a_22/a_12,2), sym.N(-a_delta/a_12,2)], [sym.N(-1/a_12,2), sym.N(a_11/a_12,2)]]\n",
        "    print(\"\\ny=\")\n",
        "    disp.display(sym.Matrix(y_matrix))\n",
        "    #h\n",
        "    h_matrix = [[sym.N(a_12/a_22,2), sym.N(a_delta/a_22,2)], [sym.N(-1/a_22,2), sym.N(a_21/a_22,2)]]\n",
        "    print(\"\\nh=\")\n",
        "    disp.display(sym.Matrix(h_matrix))\n",
        "    #g\n",
        "    g_matrix = [[sym.N(a_21/a_11,2), sym.N(-a_delta/a_11,2)], [sym.N(1/a_11,2), sym.N(a_12/a_11,2)]]\n",
        "    print(\"\\ng=\")\n",
        "    disp.display(sym.Matrix(g_matrix))\n",
        "    #a\n",
        "    a_matrix = [[sym.N(a_11,2), sym.N(a_12,2)], [sym.N(a_21,2), sym.N(a_22,2)]]\n",
        "    print(\"\\na=\")\n",
        "    disp.display(sym.Matrix(a_matrix))\n",
        "    #b\n",
        "    b_matrix = [[sym.N(a_22/a_delta,2), sym.N(a_12/a_delta,2)], [sym.N(a_21/a_delta,2), sym.N(a_11/a_delta,2)]]\n",
        "    print(\"\\nb=\")\n",
        "    disp.display(sym.Matrix(b_matrix))\n",
        "  if function_text == \"b\":\n",
        "    print(\"\\033[1mWhat is the value of b11?\\033[0m\")\n",
        "    b_11 = sym.sympify(input())\n",
        "    print(\"\\033[1mWhat is the value of b12?\\033[0m\")\n",
        "    b_12 = sym.sympify(input())\n",
        "    print(\"\\033[1mWhat is the value of b21?\\033[0m\")\n",
        "    b_21 = sym.sympify(input())\n",
        "    print(\"\\033[1mWhat is the value of b22?\\033[0m\")\n",
        "    b_22 = sym.sympify(input())\n",
        "\n",
        "    # Calculate delta value\n",
        "    b_delta = (b_11 * b_22) - (b_12 * b_21)\n",
        "\n",
        "    # Define and print matricies\n",
        "    print(\"\\n\\033[1mComputed values:\\033[0m\")\n",
        "    #z\n",
        "    z_matrix = [[sym.N(b_22/b_21,2), sym.N(1/b_21,2)], [sym.N(b_delta/b_21,2), sym.N(b_11/b_21,2)]]\n",
        "    print(\"z=\")\n",
        "    disp.display(sym.Matrix(z_matrix))\n",
        "    #y\n",
        "    y_matrix = [[sym.N(b_11/b_12,2), sym.N(-1/b_12,2)], [sym.N(-b_delta/b_12,2), sym.N(b_22/b_12,2)]]\n",
        "    print(\"\\ny=\")\n",
        "    disp.display(sym.Matrix(y_matrix))\n",
        "    #h\n",
        "    h_matrix = [[sym.N(b_12/b_11,2), sym.N(1/b_11,2)], [sym.N(-b_delta/b_11,2), sym.N(b_21/b_11,2)]]\n",
        "    print(\"\\nh=\")\n",
        "    disp.display(sym.Matrix(h_matrix))\n",
        "    #g\n",
        "    g_matrix = [[sym.N(b_21/b_22,2), sym.N(-1/b_22,2)], [sym.N(b_delta/b_22,2), sym.N(b_12/b_22,2)]]\n",
        "    print(\"\\ng=\")\n",
        "    disp.display(sym.Matrix(g_matrix))\n",
        "    #a\n",
        "    a_matrix = [[sym.N(b_22/b_delta,2), sym.N(b_12/b_delta,2)], [sym.N(b_21/b_delta,2), sym.N(b_11/b_delta,2)]]\n",
        "    print(\"\\na=\")\n",
        "    disp.display(sym.Matrix(a_matrix))\n",
        "    #b\n",
        "    b_matrix = [[sym.N(b_11,2), sym.N(b_12,2)], [sym.N(b_21,2), sym.N(b_22,2)]]\n",
        "    print(\"\\nb=\")\n",
        "    disp.display(sym.Matrix(b_matrix))\n",
        "\n",
        "  print(\"\\n\\n\\n\")\n",
        "  return parameter\n",
        "\n",
        "## UI\n",
        "print(\"All entries must adhere to programming mathematical convention, ex. 5*s' not '5s'. Press enter to exit.\\n\\n\")\n",
        "parameter_ans = \"\"\n",
        "while True:\n",
        "  if parameter_ans == \"exit\":\n",
        "    print(\"\\nEnd of runtime...\")\n",
        "    break\n",
        "  parameter_ans = parameter()"
      ],
      "metadata": {
        "id": "57LwGgTmzOjY",
        "outputId": "e558cf04-f64e-45d6-c655-085247a8b1f5",
        "colab": {
          "base_uri": "https://localhost:8080/",
          "height": 875
        },
        "cellView": "form"
      },
      "execution_count": null,
      "outputs": [
        {
          "output_type": "stream",
          "name": "stdout",
          "text": [
            "All entries must adhere to programming mathematical convention, ex. 5*s' not '5s'. Press enter to exit.\n",
            "\n",
            "\n",
            "\u001b[1mWhich set of parameters are you inputting? (z, y, h, g, a, or b)\u001b[0m\n",
            "h\n",
            "\u001b[1mWhat is the value of h11?\u001b[0m\n",
            "4\n",
            "\u001b[1mWhat is the value of h12?\u001b[0m\n",
            "300\n",
            "\u001b[1mWhat is the value of h21?\u001b[0m\n",
            "91/2\n",
            "\u001b[1mWhat is the value of h22?\u001b[0m\n",
            "10000\n",
            "\n",
            "\u001b[1mComputed values:\u001b[0m\n",
            "z=\n"
          ]
        },
        {
          "output_type": "display_data",
          "data": {
            "text/plain": [
              "Matrix([\n",
              "[    2.6,   0.03],\n",
              "[-0.0045, 0.0001]])"
            ],
            "text/latex": "$\\displaystyle \\left[\\begin{matrix}2.6 & 0.03\\\\-0.0045 & 0.0001\\end{matrix}\\right]$"
          },
          "metadata": {}
        },
        {
          "output_type": "stream",
          "name": "stdout",
          "text": [
            "\n",
            "y=\n"
          ]
        },
        {
          "output_type": "display_data",
          "data": {
            "text/plain": [
              "Matrix([\n",
              "[0.25,  -75.0],\n",
              "[11.0, 6.6e+3]])"
            ],
            "text/latex": "$\\displaystyle \\left[\\begin{matrix}0.25 & -75.0\\\\11.0 & 6.6 \\cdot 10^{3}\\end{matrix}\\right]$"
          },
          "metadata": {}
        },
        {
          "output_type": "stream",
          "name": "stdout",
          "text": [
            "\n",
            "h=\n"
          ]
        },
        {
          "output_type": "display_data",
          "data": {
            "text/plain": [
              "Matrix([\n",
              "[ 4.0, 3.0e+2],\n",
              "[46.0, 1.0e+4]])"
            ],
            "text/latex": "$\\displaystyle \\left[\\begin{matrix}4.0 & 3.0 \\cdot 10^{2}\\\\46.0 & 1.0 \\cdot 10^{4}\\end{matrix}\\right]$"
          },
          "metadata": {}
        },
        {
          "output_type": "stream",
          "name": "stdout",
          "text": [
            "\n",
            "g=\n"
          ]
        },
        {
          "output_type": "display_data",
          "data": {
            "text/plain": [
              "Matrix([\n",
              "[   0.38,  -0.011],\n",
              "[-0.0017, 0.00015]])"
            ],
            "text/latex": "$\\displaystyle \\left[\\begin{matrix}0.38 & -0.011\\\\-0.0017 & 0.00015\\end{matrix}\\right]$"
          },
          "metadata": {}
        },
        {
          "output_type": "stream",
          "name": "stdout",
          "text": [
            "\n",
            "a=\n"
          ]
        },
        {
          "output_type": "display_data",
          "data": {
            "text/plain": [
              "Matrix([\n",
              "[-5.8e+2, -0.088],\n",
              "[-2.2e+2, -0.022]])"
            ],
            "text/latex": "$\\displaystyle \\left[\\begin{matrix}-5.8 \\cdot 10^{2} & -0.088\\\\-2.2 \\cdot 10^{2} & -0.022\\end{matrix}\\right]$"
          },
          "metadata": {}
        },
        {
          "output_type": "stream",
          "name": "stdout",
          "text": [
            "\n",
            "b=\n"
          ]
        },
        {
          "output_type": "display_data",
          "data": {
            "text/plain": [
              "Matrix([\n",
              "[0.0033, 0.013],\n",
              "[  33.0,  88.0]])"
            ],
            "text/latex": "$\\displaystyle \\left[\\begin{matrix}0.0033 & 0.013\\\\33.0 & 88.0\\end{matrix}\\right]$"
          },
          "metadata": {}
        },
        {
          "output_type": "stream",
          "name": "stdout",
          "text": [
            "\n",
            "\n",
            "\n",
            "\n",
            "\u001b[1mWhich set of parameters are you inputting? (z, y, h, g, a, or b)\u001b[0m\n",
            "\n",
            "\n",
            "End of runtime...\n"
          ]
        }
      ]
    },
    {
      "cell_type": "markdown",
      "source": [
        "\n",
        "\n",
        "---\n",
        "\n"
      ],
      "metadata": {
        "id": "6yU0OP-VH-Jn"
      }
    },
    {
      "cell_type": "code",
      "source": [
        "#@title System of Equations Calculator\n",
        "\n",
        "print(\">> In Progress <<\")"
      ],
      "metadata": {
        "id": "yGX8xhRbl9sm",
        "cellView": "form"
      },
      "execution_count": null,
      "outputs": []
    },
    {
      "cell_type": "markdown",
      "source": [
        "\n",
        "\n",
        "---\n",
        "\n"
      ],
      "metadata": {
        "id": "RVcuLwPBIGaj"
      }
    },
    {
      "cell_type": "code",
      "source": [
        "#@title Filter Characterization Graph\n",
        "\n",
        "import numpy as np\n",
        "import sympy as sym\n",
        "import cmath\n",
        "import IPython.display as disp\n",
        "from google.colab import runtime\n",
        "import matplotlib.pyplot as plt\n",
        "\n",
        "s = sym.symbols('s')\n",
        "t = sym.symbols('t')\n",
        "w = sym.symbols('w')\n",
        "\n",
        "## Functions\n",
        "def filter_char():\n",
        "    print(\"\\033[1mInsert the filter's transfer function in terms of 's': \\033[0m\")\n",
        "    function_text = input()\n",
        "\n",
        "    if function_text == \"\":\n",
        "        return \"exit\"\n",
        "\n",
        "    display_function = sym.sympify(function_text)\n",
        "    print(\"\\n\\033[1mYour Input:\\033[0m\")\n",
        "    disp.display_latex(display_function)\n",
        "    print(\"\\n\")\n",
        "\n",
        "    symfy_function = sym.sympify(function_text.lower()).subs('s', '1j*w')\n",
        "\n",
        "    # Convert to complex numbers\n",
        "    transfer_function = sym.lambdify('w', symfy_function, modules=['numpy'])\n",
        "\n",
        "    # Symbolic expressions for magnitude and phase\n",
        "    w = sym.symbols('w')\n",
        "    magnitude_sym = sym.Abs(symfy_function)\n",
        "    phase_sym = sym.arg(symfy_function)\n",
        "\n",
        "    print(\"\\n\\033[1mWhat is the lower bound of the frequency domain your searching? (rad/s) \\033[0m\")\n",
        "    lower_lim = float(input())\n",
        "    if lower_lim == \"\":\n",
        "        return \"exit\"\n",
        "    print(\"\\n\\033[1mWhat is the upper bound of the frequency domain your searching? (rad/s) \\033[0m\")\n",
        "    upper_lim = float(input())\n",
        "    if upper_lim == \"\":\n",
        "        return \"exit\"\n",
        "\n",
        "    # Generate frequency values\n",
        "    frequencies = np.linspace(lower_lim, upper_lim, int((upper_lim-lower_lim)/5))\n",
        "\n",
        "    # Calculate magnitude and phase values\n",
        "    magnitude_values = 20 * np.log10(np.abs(transfer_function(frequencies)))\n",
        "    phase_values = np.angle(transfer_function(frequencies), deg=True)\n",
        "\n",
        "    # Plot magnitude and phase\n",
        "    plt.figure(figsize=(12, 4))\n",
        "\n",
        "    # Magnitude plot\n",
        "    plt.subplot(1, 2, 1)\n",
        "    plt.semilogx(frequencies, magnitude_values)\n",
        "    plt.title('Magnitude Plot (dB)')\n",
        "    plt.xlabel('Frequency (rad/s)')\n",
        "    plt.ylabel('Magnitude (dB)')\n",
        "    plt.grid(True)\n",
        "    plt.axhline(y=-3, color='blue', linestyle='--')\n",
        "\n",
        "    # Find the indices where the magnitude crosses -3 dB\n",
        "    indices = np.where(np.diff(np.sign(magnitude_values + 3)))[0]\n",
        "\n",
        "    # Store intersection frequencies\n",
        "    intersection_frequencies = [frequencies[index] for index in indices]\n",
        "\n",
        "    # Add vertical lines at all intersection frequencies and label the legend\n",
        "    for index, frequency in zip(indices, intersection_frequencies):\n",
        "        plt.axvline(x=frequencies[index], color='red', linestyle='--', label=f'~Cutoff at {frequency:.2f} rad/s')\n",
        "\n",
        "    plt.legend()\n",
        "\n",
        "    # Phase plot\n",
        "    plt.subplot(1, 2, 2)\n",
        "    plt.semilogx(frequencies, phase_values)\n",
        "    plt.title('Phase Plot (degrees)')\n",
        "    plt.xlabel('Frequency (rad/s)')\n",
        "    plt.ylabel('Phase (degrees)')\n",
        "    plt.grid(True)\n",
        "\n",
        "    plt.tight_layout()\n",
        "    plt.show()\n",
        "\n",
        "    print(\"\\n\\n\\n\")\n",
        "\n",
        "    return filter_char\n",
        "\n",
        "## UI\n",
        "print(\"All entries must adhere to programming mathematical convention, ex. 5*s' not '5s'. Press enter to exit.\\n\\n\")\n",
        "filter_char_ans = \"\"\n",
        "while True:\n",
        "  if filter_char_ans == \"exit\":\n",
        "    print(\"\\nEnd of runtime...\")\n",
        "    break\n",
        "  filter_char_ans = filter_char()"
      ],
      "metadata": {
        "id": "RbjRw3NqIAxZ",
        "colab": {
          "base_uri": "https://localhost:8080/",
          "height": 831
        },
        "outputId": "1c916d62-72c1-4114-b428-36864d0cbf03",
        "cellView": "form"
      },
      "execution_count": null,
      "outputs": [
        {
          "output_type": "stream",
          "name": "stdout",
          "text": [
            "All entries must adhere to programming mathematical convention, ex. 5*s' not '5s'. Press enter to exit.\n",
            "\n",
            "\n",
            "\u001b[1mInsert the filter's transfer function in terms of 's': \u001b[0m\n",
            "(9000*s)/(s^2+9000*s+10000^2)\n",
            "\n",
            "\u001b[1mYour Input:\u001b[0m\n"
          ]
        },
        {
          "output_type": "display_data",
          "data": {
            "text/latex": "$\\displaystyle \\frac{9000 s}{s^{2} + 9000 s + 100000000}$"
          },
          "metadata": {}
        },
        {
          "name": "stdout",
          "output_type": "stream",
          "text": [
            "\n",
            "\n",
            "\n",
            "\u001b[1mWhat is the lower bound of the frequency domain your searching? (rad/s) \u001b[0m\n",
            "0\n",
            "\n",
            "\u001b[1mWhat is the upper bound of the frequency domain your searching? (rad/s) \u001b[0m\n",
            "1000000\n"
          ]
        },
        {
          "output_type": "stream",
          "name": "stderr",
          "text": [
            "<ipython-input-101-c5dc3cc221c5>:50: RuntimeWarning: divide by zero encountered in log10\n",
            "  magnitude_values = 20 * np.log10(np.abs(transfer_function(frequencies)))\n"
          ]
        },
        {
          "output_type": "display_data",
          "data": {
            "text/plain": [
              "<Figure size 1200x400 with 2 Axes>"
            ],
            "image/png": "[encoded data removed]"
          },
          "metadata": {}
        },
        {
          "output_type": "stream",
          "name": "stdout",
          "text": [
            "\n",
            "\n",
            "\n",
            "\n",
            "\u001b[1mInsert the filter's transfer function in terms of 's': \u001b[0m\n",
            "\n",
            "\n",
            "End of runtime...\n"
          ]
        }
      ]
    },
    {
      "cell_type": "markdown",
      "source": [
        "*Made by Kiva M. ♡*"
      ],
      "metadata": {
        "id": "rWKypAyNf75h"
      }
    }
  ]
}