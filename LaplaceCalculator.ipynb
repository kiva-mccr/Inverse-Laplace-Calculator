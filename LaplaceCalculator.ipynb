{
  "nbformat": 4,
  "nbformat_minor": 0,
  "metadata": {
    "colab": {
      "provenance": [],
      "authorship_tag": "ABX9TyNEO0iSeM8KTpdHDXCfuIKF",
      "include_colab_link": true
    },
    "kernelspec": {
      "name": "python3",
      "display_name": "Python 3"
    },
    "language_info": {
      "name": "python"
    }
  },
  "cells": [
    {
      "cell_type": "markdown",
      "metadata": {
        "id": "view-in-github",
        "colab_type": "text"
      },
      "source": [
        "<a href=\"https://colab.research.google.com/github/kiva-mccr/Inverse-Laplace-Calculator/blob/main/LaplaceCalculator.ipynb\" target=\"_parent\"><img src=\"https://colab.research.google.com/assets/colab-badge.svg\" alt=\"Open In Colab\"/></a>"
      ]
    },
    {
      "cell_type": "markdown",
      "source": [
        "# Inverse Laplace Calculator"
      ],
      "metadata": {
        "id": "RjydTWXZL4te"
      }
    },
    {
      "cell_type": "code",
      "execution_count": 45,
      "metadata": {
        "colab": {
          "base_uri": "https://localhost:8080/",
          "height": 852
        },
        "id": "L3OOmR5643BJ",
        "outputId": "1c73df35-779e-4c98-b16d-73d30a487344"
      },
      "outputs": [
        {
          "output_type": "stream",
          "name": "stdout",
          "text": [
            "[UI Guide Goes Here] Pressing <Enter> on an empty field will end the runtime, \n",
            "typing 'invlap' will initiate an inverse laplace function\n",
            "\n",
            "\n",
            "What function would you like to perform? (Refer to the key above)\n",
            "Ans\n",
            "\n",
            "\n",
            "\n",
            "\u001b[1mYour Output:\u001b[0m\n"
          ]
        },
        {
          "output_type": "display_data",
          "data": {
            "text/latex": "$\\displaystyle Undefined$"
          },
          "metadata": {}
        },
        {
          "output_type": "stream",
          "name": "stdout",
          "text": [
            "\n",
            "\n",
            "\n",
            "\n",
            "What function would you like to perform? (Refer to the key above)\n",
            "Invlap\n",
            "\n",
            "\n",
            "\u001b[1mInsert a Laplace function in terms of 's': \u001b[0m\n",
            "1/s^2\n",
            "\n",
            "\u001b[1mYour Input:\u001b[0m\n"
          ]
        },
        {
          "output_type": "display_data",
          "data": {
            "text/latex": "$\\displaystyle \\frac{1}{s^{2}}$"
          },
          "metadata": {}
        },
        {
          "output_type": "stream",
          "name": "stdout",
          "text": [
            "\n",
            "\u001b[1mYour Output:\u001b[0m\n"
          ]
        },
        {
          "output_type": "display_data",
          "data": {
            "text/latex": "$\\displaystyle t u{\\left(t \\right)}$"
          },
          "metadata": {}
        },
        {
          "output_type": "stream",
          "name": "stdout",
          "text": [
            "\n",
            "\n",
            "\n",
            "\n",
            "What function would you like to perform? (Refer to the key above)\n",
            "Ans\n",
            "\n",
            "\n",
            "\n",
            "\u001b[1mYour Output:\u001b[0m\n"
          ]
        },
        {
          "output_type": "display_data",
          "data": {
            "text/latex": "$\\displaystyle t u{\\left(t \\right)}$"
          },
          "metadata": {}
        },
        {
          "output_type": "stream",
          "name": "stdout",
          "text": [
            "\n",
            "\n",
            "\n",
            "\n",
            "What function would you like to perform? (Refer to the key above)\n",
            "\n",
            "End of runtime...\n"
          ]
        }
      ],
      "source": [
        "import sympy as sym\n",
        "from sympy.abc import s, t\n",
        "import IPython.display as disp\n",
        "from google.colab import runtime\n",
        "\n",
        "## Functions\n",
        "def inverse_laplace():\n",
        "  print(\"\\033[1mInsert a Laplace function in terms of 's': \\033[0m\")\n",
        "  function_text = input()\n",
        "  function_text = function_text.lower()\n",
        "  if function_text == \"\":\n",
        "    return \"exit\"\n",
        "  function_text = function_text.replace(')(', ') * (')\n",
        "  function = sym.sympify(function_text)\n",
        "  symfy_function = sym.sympify(function)\n",
        "  symfy_function_display = sym.N(symfy_function, 2)\n",
        "\n",
        "  print(\"\\n\\033[1mYour Input:\\033[0m\")\n",
        "  disp.display_latex(symfy_function_display)\n",
        "\n",
        "  # Perform partial fraction decomposition\n",
        "  partial_fraction = sym.apart(symfy_function, s)  # Added this line\n",
        "\n",
        "  # Perform inverse Laplace transform\n",
        "  invlap_function = sym.inverse_laplace_transform(partial_fraction, s, t)\n",
        "  invlap_function = invlap_function.subs(sym.Heaviside(t), 'u(t)')\n",
        "\n",
        "  # Replace hyperbolic trigonometric functions with their exponential equivalents\n",
        "  invlap_function = invlap_function.rewrite(sym.sinh, sym.exp).rewrite(sym.cosh, sym.exp)\n",
        "\n",
        "  # Simplify the expression while avoiding hyperbolic trigonometric functions\n",
        "  invlap_function = sym.simplify(invlap_function)\n",
        "\n",
        "  # Expand the expression to distribute out terms\n",
        "  invlap_function = sym.expand(invlap_function)\n",
        "  ans = invlap_function\n",
        "  # Format output with digits rounded to two decimal places and display exponent\n",
        "  invlap_function = sym.N(invlap_function, 2)\n",
        "  print(\"\\n\\033[1mYour Output:\\033[0m\")  # This line will make the output bold\n",
        "  disp.display_latex(invlap_function)\n",
        "  print(\"\\n\\n\\n\")\n",
        "  return invlap_function\n",
        "\n",
        "def print_answer(ans):\n",
        "  answer = sym.N(ans, 2)\n",
        "  print(\"\\n\\033[1mYour Output:\\033[0m\")  # This line will make the output bold\n",
        "  disp.display_latex(answer)\n",
        "  print(\"\\n\\n\\n\")\n",
        "\n",
        "## UI\n",
        "ans = \"Undefined\"\n",
        "print(\"[UI Guide Goes Here] Pressing <Enter> on an empty field will end the runtime, \\ntyping 'invlap' will initiate an inverse laplace function\\n\\n\")\n",
        "while True:\n",
        "  print(\"What function would you like to perform? (Refer to the key above)\")\n",
        "  user_input = input()\n",
        "  user_input = user_input.lower()\n",
        "  if user_input == \"invlap\":\n",
        "    print(\"\\n\")\n",
        "    inv_lap_ans = inverse_laplace()\n",
        "    if inv_lap_ans == \"exit\":\n",
        "      print(\"\\n\\n\\nEnd of runtime...\")\n",
        "      break\n",
        "    else:\n",
        "      ans = inv_lap_ans\n",
        "  elif user_input == \"ans\":\n",
        "    print(\"\\n\")\n",
        "    print_answer(ans)\n",
        "  elif user_input == \"\":\n",
        "    print(\"End of runtime...\")\n",
        "    break\n",
        "  elif user_input != \"\" and \"invlap\":\n",
        "    print(\"[Invalid Function]\\n\")"
      ]
    }
  ]
}