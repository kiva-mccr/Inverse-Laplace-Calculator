{
  "nbformat": 4,
  "nbformat_minor": 0,
  "metadata": {
    "colab": {
      "provenance": [],
      "authorship_tag": "ABX9TyOuXaxrKJS7PWTapDNSFdLH",
      "include_colab_link": true
    },
    "kernelspec": {
      "name": "python3",
      "display_name": "Python 3"
    },
    "language_info": {
      "name": "python"
    }
  },
  "cells": [
    {
      "cell_type": "markdown",
      "metadata": {
        "id": "view-in-github",
        "colab_type": "text"
      },
      "source": [
        "<a href=\"https://colab.research.google.com/github/kiva-mccr/Inverse-Laplace-Calculator/blob/main/LaplaceCalculator.ipynb\" target=\"_parent\"><img src=\"https://colab.research.google.com/assets/colab-badge.svg\" alt=\"Open In Colab\"/></a>"
      ]
    },
    {
      "cell_type": "markdown",
      "source": [
        "# Inverse Laplace Calculator"
      ],
      "metadata": {
        "id": "RjydTWXZL4te"
      }
    },
    {
      "cell_type": "code",
      "execution_count": 4,
      "metadata": {
        "colab": {
          "base_uri": "https://localhost:8080/",
          "height": 357
        },
        "id": "L3OOmR5643BJ",
        "outputId": "c4816434-342f-4832-c292-691969764106"
      },
      "outputs": [
        {
          "output_type": "stream",
          "name": "stdout",
          "text": [
            "Pressing <Enter> on an empty field will end the runtime.\n",
            "\n",
            "\n",
            "\u001b[1mInsert a Laplace function in terms of 's': \u001b[0m\n",
            "(3*(s+30000))/(5*(s+5000)*(s+8000))\n",
            "\n",
            "\u001b[1mYour Input:\u001b[0m\n"
          ]
        },
        {
          "output_type": "display_data",
          "data": {
            "text/latex": "$\\displaystyle \\frac{3.0 s + 9.0 \\cdot 10^{4}}{\\left(s + 8.0 \\cdot 10^{3}\\right) \\left(5.0 s + 2.5 \\cdot 10^{4}\\right)}$"
          },
          "metadata": {}
        },
        {
          "output_type": "stream",
          "name": "stdout",
          "text": [
            "\n",
            "\u001b[1mYour Output:\u001b[0m\n"
          ]
        },
        {
          "output_type": "display_data",
          "data": {
            "text/latex": "$\\displaystyle 5.0 u{\\left(t \\right)} e^{- 5000 t} - 4.4 u{\\left(t \\right)} e^{- 8000 t}$"
          },
          "metadata": {}
        },
        {
          "output_type": "stream",
          "name": "stdout",
          "text": [
            "\n",
            "\n",
            "\n",
            "\n",
            "\u001b[1mInsert a Laplace function in terms of 's': \u001b[0m\n",
            "\n",
            "End of runtime...\n"
          ]
        }
      ],
      "source": [
        "import sympy as sym\n",
        "from sympy.abc import s, t\n",
        "import IPython.display as disp\n",
        "\n",
        "print(\"Pressing <Enter> on an empty field will end the runtime.\\n\\n\")\n",
        "\n",
        "while True:\n",
        "\n",
        "    print(\"\\033[1mInsert a Laplace function in terms of 's': \\033[0m\")\n",
        "    function_text = input()\n",
        "    if function_text == \"\":\n",
        "        print(\"End of runtime...\")\n",
        "        break\n",
        "    function_text = function_text.lower()\n",
        "    function_text = function_text.replace(')(', ')*(')\n",
        "\n",
        "    function = sym.sympify(function_text)\n",
        "    symfy_function = sym.sympify(function)\n",
        "    symfy_function_display = sym.N(symfy_function, 2)\n",
        "\n",
        "    print(\"\\n\\033[1mYour Input:\\033[0m\")\n",
        "    disp.display_latex(symfy_function_display)\n",
        "\n",
        "    # Perform partial fraction decomposition\n",
        "    partial_fraction = sym.apart(symfy_function, s)  # Added this line\n",
        "\n",
        "    # Perform inverse Laplace transform\n",
        "    invlap_function = sym.inverse_laplace_transform(partial_fraction, s, t)\n",
        "    invlap_function = invlap_function.subs(sym.Heaviside(t), 'u(t)')\n",
        "\n",
        "    # Replace hyperbolic trigonometric functions with their exponential equivalents\n",
        "    invlap_function = invlap_function.rewrite(sym.sinh, sym.exp).rewrite(sym.cosh, sym.exp)\n",
        "\n",
        "    # Simplify the expression while avoiding hyperbolic trigonometric functions\n",
        "    invlap_function = sym.simplify(invlap_function)\n",
        "\n",
        "    # Expand the expression to distribute out terms\n",
        "    invlap_function = sym.expand(invlap_function)\n",
        "\n",
        "    # Format output with digits rounded to two decimal places and display exponent\n",
        "    invlap_function = sym.N(invlap_function, 2)\n",
        "    print(\"\\n\\033[1mYour Output:\\033[0m\")  # This line will make the output bold\n",
        "    disp.display_latex(invlap_function)\n",
        "    print(\"\\n\\n\\n\")"
      ]
    }
  ]
}